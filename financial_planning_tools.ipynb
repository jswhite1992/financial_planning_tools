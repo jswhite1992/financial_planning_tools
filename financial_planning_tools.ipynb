{
 "cells": [
  {
   "cell_type": "markdown",
   "metadata": {},
   "source": [
    "# Financial Planning with APIs and Simulations\n",
    "\n",
    "In this Challenge, you’ll create two financial analysis tools by using a single Jupyter notebook:\n",
    "\n",
    "Part 1: A financial planner for emergencies. The members will be able to use this tool to visualize their current savings. The members can then determine if they have enough reserves for an emergency fund.\n",
    "\n",
    "Part 2: A financial planner for retirement. This tool will forecast the performance of their retirement portfolio in 30 years. To do this, the tool will make an Alpaca API call via the Alpaca SDK to get historical price data for use in Monte Carlo simulations.\n",
    "\n",
    "You’ll use the information from the Monte Carlo simulation to answer questions about the portfolio in your Jupyter notebook.\n",
    "\n"
   ]
  },
  {
   "cell_type": "code",
   "execution_count": 162,
   "metadata": {},
   "outputs": [],
   "source": [
    "# Import the required libraries and dependencies\n",
    "import os\n",
    "import requests\n",
    "import json\n",
    "import pandas as pd\n",
    "from dotenv import load_dotenv\n",
    "import alpaca_trade_api as tradeapi\n",
    "from MCForecastTools import MCSimulation\n",
    "\n",
    "%matplotlib inline"
   ]
  },
  {
   "cell_type": "code",
   "execution_count": 163,
   "metadata": {},
   "outputs": [
    {
     "data": {
      "text/plain": [
       "True"
      ]
     },
     "execution_count": 163,
     "metadata": {},
     "output_type": "execute_result"
    }
   ],
   "source": [
    "# Load the environment variables from the .env file\n",
    "#by calling the load_dotenv function\n",
    "load_dotenv()"
   ]
  },
  {
   "cell_type": "markdown",
   "metadata": {},
   "source": [
    "## Part 1: Create a Financial Planner for Emergencies"
   ]
  },
  {
   "cell_type": "markdown",
   "metadata": {},
   "source": [
    "### Evaluate the Cryptocurrency Wallet by Using the Requests Library\n",
    "\n",
    "In this section, you’ll determine the current value of a member’s cryptocurrency wallet. You’ll collect the current prices for the Bitcoin and Ethereum cryptocurrencies by using the Python Requests library. For the prototype, you’ll assume that the member holds the 1.2 Bitcoins (BTC) and 5.3 Ethereum coins (ETH). To do all this, complete the following steps:\n",
    "\n",
    "1. Create a variable named `monthly_income`, and set its value to `12000`.\n",
    "\n",
    "2. Use the Requests library to get the current price (in US dollars) of Bitcoin (BTC) and Ethereum (ETH) by using the API endpoints that the starter code supplies.\n",
    "\n",
    "3. Navigate the JSON response object to access the current price of each coin, and store each in a variable.\n",
    "\n",
    "    > **Hint** Note the specific identifier for each cryptocurrency in the API JSON response. The Bitcoin identifier is `1`, and the Ethereum identifier is `1027`.\n",
    "\n",
    "4. Calculate the value, in US dollars, of the current amount of each cryptocurrency and of the entire cryptocurrency wallet.\n",
    "\n"
   ]
  },
  {
   "cell_type": "code",
   "execution_count": 164,
   "metadata": {},
   "outputs": [],
   "source": [
    "# The current number of coins for each cryptocurrency asset held in the portfolio.\n",
    "btc_coins = 1.2\n",
    "eth_coins = 5.3"
   ]
  },
  {
   "cell_type": "markdown",
   "metadata": {},
   "source": [
    "#### Step 1: Create a variable named `monthly_income`, and set its value to `12000`."
   ]
  },
  {
   "cell_type": "code",
   "execution_count": 165,
   "metadata": {},
   "outputs": [],
   "source": [
    "# The monthly amount for the member's household income\n",
    "monthly_income = 12000"
   ]
  },
  {
   "cell_type": "markdown",
   "metadata": {},
   "source": [
    "#### Review the endpoint URLs for the API calls to Free Crypto API in order to get the current pricing information for both BTC and ETH."
   ]
  },
  {
   "cell_type": "code",
   "execution_count": 166,
   "metadata": {},
   "outputs": [],
   "source": [
    "# The Free Crypto API Call endpoint URLs for the held cryptocurrency assets\n",
    "btc_url = \"https://api.alternative.me/v2/ticker/Bitcoin/?convert=USD\"\n",
    "eth_url = \"https://api.alternative.me/v2/ticker/Ethereum/?convert=USD\""
   ]
  },
  {
   "cell_type": "markdown",
   "metadata": {},
   "source": [
    "#### Step 2. Use the Requests library to get the current price (in US dollars) of Bitcoin (BTC) and Ethereum (ETH) by using the API endpoints that the starter code supplied."
   ]
  },
  {
   "cell_type": "code",
   "execution_count": 167,
   "metadata": {},
   "outputs": [
    {
     "name": "stdout",
     "output_type": "stream",
     "text": [
      "{\n",
      "    \"data\": {\n",
      "        \"1\": {\n",
      "            \"circulating_supply\": 19350318,\n",
      "            \"id\": 1,\n",
      "            \"last_updated\": 1681871961,\n",
      "            \"max_supply\": 21000000,\n",
      "            \"name\": \"Bitcoin\",\n",
      "            \"quotes\": {\n",
      "                \"USD\": {\n",
      "                    \"market_cap\": 584496797887,\n",
      "                    \"percent_change_1h\": -0.329600402942776,\n",
      "                    \"percent_change_24h\": 2.43098812229574,\n",
      "                    \"percent_change_7d\": -0.181418909556493,\n",
      "                    \"percentage_change_1h\": -0.329600402942776,\n",
      "                    \"percentage_change_24h\": 2.43098812229574,\n",
      "                    \"percentage_change_7d\": -0.181418909556493,\n",
      "                    \"price\": 30206.0,\n",
      "                    \"volume_24h\": 17926708292\n",
      "                }\n",
      "            },\n",
      "            \"rank\": 1,\n",
      "            \"symbol\": \"BTC\",\n",
      "            \"total_supply\": 19350318,\n",
      "            \"website_slug\": \"bitcoin\"\n",
      "        }\n",
      "    },\n",
      "    \"metadata\": {\n",
      "        \"error\": null,\n",
      "        \"num_cryptocurrencies\": 3119,\n",
      "        \"timestamp\": 1681871961\n",
      "    }\n",
      "}\n"
     ]
    }
   ],
   "source": [
    "# Using the Python requests library, make an API call to access the current price of BTC\n",
    "btc_response = requests.get(btc_url)\n",
    "\n",
    "# Use the json.dumps function to review the response data from the API call\n",
    "# Use the indent and sort_keys parameters to make the response object readable\n",
    "print(json.dumps(btc_response.json(), indent=4, sort_keys=True))"
   ]
  },
  {
   "cell_type": "code",
   "execution_count": 168,
   "metadata": {},
   "outputs": [
    {
     "name": "stdout",
     "output_type": "stream",
     "text": [
      "{\n",
      "    \"data\": {\n",
      "        \"1027\": {\n",
      "            \"circulating_supply\": 119368246,\n",
      "            \"id\": 1027,\n",
      "            \"last_updated\": 1681871965,\n",
      "            \"max_supply\": 119368246,\n",
      "            \"name\": \"Ethereum\",\n",
      "            \"quotes\": {\n",
      "                \"USD\": {\n",
      "                    \"market_cap\": 249750109068,\n",
      "                    \"percent_change_1h\": -0.30054583982796,\n",
      "                    \"percent_change_24h\": 0.454407839533323,\n",
      "                    \"percent_change_7d\": 10.5404836893839,\n",
      "                    \"percentage_change_1h\": -0.30054583982796,\n",
      "                    \"percentage_change_24h\": 0.454407839533323,\n",
      "                    \"percentage_change_7d\": 10.5404836893839,\n",
      "                    \"price\": 2092.46,\n",
      "                    \"volume_24h\": 9814610267\n",
      "                }\n",
      "            },\n",
      "            \"rank\": 2,\n",
      "            \"symbol\": \"ETH\",\n",
      "            \"total_supply\": 119368246,\n",
      "            \"website_slug\": \"ethereum\"\n",
      "        }\n",
      "    },\n",
      "    \"metadata\": {\n",
      "        \"error\": null,\n",
      "        \"num_cryptocurrencies\": 3119,\n",
      "        \"timestamp\": 1681871965\n",
      "    }\n",
      "}\n"
     ]
    }
   ],
   "source": [
    "# Using the Python requests library, make an API call to access the current price ETH\n",
    "eth_response = requests.get(eth_url)\n",
    "\n",
    "# Use the json.dumps function to review the response data from the API call\n",
    "# Use the indent and sort_keys parameters to make the response object readable\n",
    "print(json.dumps(eth_response.json(), indent=4, sort_keys=True))"
   ]
  },
  {
   "cell_type": "markdown",
   "metadata": {},
   "source": [
    "#### Step 3: Navigate the JSON response object to access the current price of each coin, and store each in a variable."
   ]
  },
  {
   "cell_type": "code",
   "execution_count": 169,
   "metadata": {},
   "outputs": [
    {
     "name": "stdout",
     "output_type": "stream",
     "text": [
      "The current price of BTC is $30206.0\n"
     ]
    }
   ],
   "source": [
    "# Navigate the BTC response object to access the current price of BTC\n",
    "btc_price = btc_response.json()['data']['1']['quotes']['USD']['price']\n",
    "\n",
    "# Print the current price of BTC\n",
    "print(f\"The current price of BTC is ${btc_price}\")"
   ]
  },
  {
   "cell_type": "code",
   "execution_count": 170,
   "metadata": {},
   "outputs": [
    {
     "name": "stdout",
     "output_type": "stream",
     "text": [
      "The current price of ETH is $2092.46\n"
     ]
    }
   ],
   "source": [
    "# Navigate the BTC response object to access the current price of ETH\n",
    "eth_price = eth_response.json()['data']['1027']['quotes']['USD']['price']\n",
    "\n",
    "# Print the current price of ETH\n",
    "print(f\"The current price of ETH is ${eth_price}\")"
   ]
  },
  {
   "cell_type": "markdown",
   "metadata": {},
   "source": [
    "### Step 4: Calculate the value, in US dollars, of the current amount of each cryptocurrency and of the entire cryptocurrency wallet."
   ]
  },
  {
   "cell_type": "code",
   "execution_count": 171,
   "metadata": {},
   "outputs": [
    {
     "name": "stdout",
     "output_type": "stream",
     "text": [
      "The current value of your BTC holding is $36247.2\n"
     ]
    }
   ],
   "source": [
    "# Compute the current value of the BTC holding \n",
    "btc_value = btc_coins * btc_price\n",
    "\n",
    "# Print current value of your holding in BTC\n",
    "print(f\"The current value of your BTC holding is ${btc_value}\")"
   ]
  },
  {
   "cell_type": "code",
   "execution_count": 172,
   "metadata": {},
   "outputs": [
    {
     "name": "stdout",
     "output_type": "stream",
     "text": [
      "The current value of your ETH holding is $11090.038\n"
     ]
    }
   ],
   "source": [
    "# Compute the current value of the ETH holding \n",
    "eth_value = eth_coins * eth_price\n",
    "\n",
    "# Print current value of your holding in ETH\n",
    "print(f\"The current value of your ETH holding is ${eth_value}\")"
   ]
  },
  {
   "cell_type": "code",
   "execution_count": 173,
   "metadata": {},
   "outputs": [
    {
     "name": "stdout",
     "output_type": "stream",
     "text": [
      "The current value of your cryptocurrency wallet is $47337.238\n"
     ]
    }
   ],
   "source": [
    "# Compute the total value of the cryptocurrency wallet\n",
    "# Add the value of the BTC holding to the value of the ETH holding\n",
    "total_crypto_wallet = btc_value + eth_value\n",
    "\n",
    "# Print current cryptocurrency wallet balance\n",
    "print(f\"The current value of your cryptocurrency wallet is ${total_crypto_wallet}\")"
   ]
  },
  {
   "cell_type": "markdown",
   "metadata": {},
   "source": [
    "### Evaluate the Stock and Bond Holdings by Using the Alpaca SDK\n",
    "\n",
    "In this section, you’ll determine the current value of a member’s stock and bond holdings. You’ll make an API call to Alpaca via the Alpaca SDK to get the current closing prices of the SPDR S&P 500 ETF Trust (ticker: SPY) and of the iShares Core US Aggregate Bond ETF (ticker: AGG). For the prototype, assume that the member holds 110 shares of SPY, which represents the stock portion of their portfolio, and 200 shares of AGG, which represents the bond portion. To do all this, complete the following steps:\n",
    "\n",
    "1. In the `Starter_Code` folder, create an environment file (`.env`) to store the values of your Alpaca API key and Alpaca secret key.\n",
    "\n",
    "2. Set the variables for the Alpaca API and secret keys. Using the Alpaca SDK, create the Alpaca `tradeapi.REST` object. In this object, include the parameters for the Alpaca API key, the secret key, and the version number.\n",
    "\n",
    "3. Set the following parameters for the Alpaca API call:\n",
    "\n",
    "    - `tickers`: Use the tickers for the member’s stock and bond holdings.\n",
    "\n",
    "    - `timeframe`: Use a time frame of one day.\n",
    "\n",
    "    - `start_date` and `end_date`: Use the same date for these parameters, and format them with the date of the previous weekday (or `2020-08-07`). This is because you want the one closing price for the most-recent trading day.\n",
    "\n",
    "4. Get the current closing prices for `SPY` and `AGG` by using the Alpaca `get_bars` function. Format the response as a Pandas DataFrame by including the `df` property at the end of the `get_bars` function.\n",
    "\n",
    "5. Navigating the Alpaca response DataFrame, select the `SPY` and `AGG` closing prices, and store them as variables.\n",
    "\n",
    "6. Calculate the value, in US dollars, of the current amount of shares in each of the stock and bond portions of the portfolio, and print the results.\n"
   ]
  },
  {
   "cell_type": "markdown",
   "metadata": {},
   "source": [
    "#### Review the total number of shares held in both (SPY) and (AGG)."
   ]
  },
  {
   "cell_type": "code",
   "execution_count": 174,
   "metadata": {},
   "outputs": [],
   "source": [
    "# Current amount of shares held in both the stock (SPY) and bond (AGG) portion of the portfolio.\n",
    "spy_shares = 110\n",
    "agg_shares = 200"
   ]
  },
  {
   "cell_type": "markdown",
   "metadata": {},
   "source": [
    "#### Step 1: In the `Starter_Code` folder, create an environment file (`.env`) to store the values of your Alpaca API key and Alpaca secret key."
   ]
  },
  {
   "cell_type": "markdown",
   "metadata": {},
   "source": [
    "#### Step 2: Set the variables for the Alpaca API and secret keys. Using the Alpaca SDK, create the Alpaca `tradeapi.REST` object. In this object, include the parameters for the Alpaca API key, the secret key, and the version number."
   ]
  },
  {
   "cell_type": "code",
   "execution_count": 175,
   "metadata": {},
   "outputs": [
    {
     "name": "stdout",
     "output_type": "stream",
     "text": [
      "Alpaca API key: PKCZBFTA0S9OAHPH6O4D\n",
      "Alpaca secret key: mxdUNkqluKrwX241HUWFyMaFz0YlAYZdptEFoPkn\n"
     ]
    }
   ],
   "source": [
    "# Set the variables for the Alpaca API and secret keys\n",
    "alpaca_api_key = os.getenv(\"ALPACA_API_KEY\")\n",
    "alpaca_secret_key = os.getenv(\"ALPACA_SECRET_KEY\")\n",
    "\n",
    "# Check if the API key and secret key are loaded correctly\n",
    "print(f\"Alpaca API key: {alpaca_api_key}\")\n",
    "print(f\"Alpaca secret key: {alpaca_secret_key}\")\n",
    "\n",
    "# Create the Alpaca tradeapi.REST object\n",
    "alpaca = tradeapi.REST(\n",
    "    alpaca_api_key,\n",
    "    alpaca_secret_key,\n",
    "    api_version=\"v2\")"
   ]
  },
  {
   "cell_type": "markdown",
   "metadata": {},
   "source": [
    "#### Step 3: Set the following parameters for the Alpaca API call:\n",
    "\n",
    "- `tickers`: Use the tickers for the member’s stock and bond holdings.\n",
    "\n",
    "- `timeframe`: Use a time frame of one day.\n",
    "\n",
    "- `start_date` and `end_date`: Use the same date for these parameters, and format them with the date of the previous weekday (or `2020-08-07`). This is because you want the one closing price for the most-recent trading day.\n"
   ]
  },
  {
   "cell_type": "code",
   "execution_count": 176,
   "metadata": {},
   "outputs": [],
   "source": [
    "# Set the tickers for both the bond and stock portion of the portfolio\n",
    "tickers = [\"SPY\", \"AGG\"]\n",
    "\n",
    "# Set timeframe to 1Day\n",
    "timeframe = \"1D\"\n",
    "\n",
    "# Format current date as ISO format\n",
    "# Set both the start and end date at the date of your prior weekday\n",
    "# This will give you the closing price of the previous trading day\n",
    "# Alternatively you can use a start and end date of 2020-08-07\n",
    "start_date = pd.Timestamp(\"2020-08-07\", tz=\"America/New_York\").isoformat()\n",
    "end_date = pd.Timestamp(\"2020-08-07\", tz=\"America/New_York\").isoformat()"
   ]
  },
  {
   "cell_type": "markdown",
   "metadata": {},
   "source": [
    "#### Step 4: Get the current closing prices for `SPY` and `AGG` by using the Alpaca `get_bars` function. Format the response as a Pandas DataFrame by including the `df` property at the end of the `get_bars` function."
   ]
  },
  {
   "cell_type": "code",
   "execution_count": 177,
   "metadata": {},
   "outputs": [
    {
     "name": "stdout",
     "output_type": "stream",
     "text": [
      "symbol                        AGG     SPY\n",
      "timestamp                                \n",
      "2018-08-07 04:00:00+00:00  105.85  285.58\n",
      "2018-08-08 04:00:00+00:00  105.85  285.44\n",
      "2018-08-09 04:00:00+00:00  106.00  285.09\n",
      "2018-08-10 04:00:00+00:00  106.23  283.16\n",
      "2018-08-13 04:00:00+00:00  106.29  282.08\n"
     ]
    }
   ],
   "source": [
    "print(prices_df.head())"
   ]
  },
  {
   "cell_type": "code",
   "execution_count": 178,
   "metadata": {},
   "outputs": [
    {
     "name": "stdout",
     "output_type": "stream",
     "text": [
      "                              SPY     AGG\n",
      "timestamp                                \n",
      "2020-08-07 04:00:00+00:00  334.57  119.43\n"
     ]
    }
   ],
   "source": [
    "# Use the Alpaca get_bars function to get current closing prices for the portfolio\n",
    "prices_df = alpaca.get_bars(\n",
    "    tickers,\n",
    "    timeframe,\n",
    "    start=start_date,\n",
    "    end=end_date\n",
    ").df\n",
    "\n",
    "# Filter the rows for the respective symbols and select only the 'close' column\n",
    "spy_df = prices_df.loc[prices_df['symbol'] == 'SPY', ['close']]\n",
    "agg_df = prices_df.loc[prices_df['symbol'] == 'AGG', ['close']]\n",
    "\n",
    "# Rename the 'close' columns\n",
    "spy_df.rename(columns={\"close\": \"SPY\"}, inplace=True)\n",
    "agg_df.rename(columns={\"close\": \"AGG\"}, inplace=True)\n",
    "\n",
    "# Concatenate the ticker DataFrames\n",
    "closing_prices_df = pd.concat([spy_df, agg_df], axis=1)\n",
    "\n",
    "# Review the first 5 rows of the Alpaca DataFrame\n",
    "print(closing_prices_df.head())"
   ]
  },
  {
   "cell_type": "markdown",
   "metadata": {},
   "source": [
    "#### Step 5: Navigating the Alpaca response DataFrame, select the `SPY` and `AGG` closing prices, and store them as variables."
   ]
  },
  {
   "cell_type": "code",
   "execution_count": 179,
   "metadata": {},
   "outputs": [
    {
     "name": "stdout",
     "output_type": "stream",
     "text": [
      "AGG closing price: $119.43\n"
     ]
    }
   ],
   "source": [
    "# Access the closing price for AGG from the Alpaca DataFrame\n",
    "# Converting the value to a floating point number\n",
    "agg_close_price = float(closing_prices_df.loc['2020-08-07 04:00:00+00:00', 'AGG'])\n",
    "\n",
    "# Print the AGG closing price\n",
    "print(f\"AGG closing price: ${agg_close_price}\")"
   ]
  },
  {
   "cell_type": "code",
   "execution_count": 180,
   "metadata": {},
   "outputs": [
    {
     "name": "stdout",
     "output_type": "stream",
     "text": [
      "SPY closing price: $334.57\n"
     ]
    }
   ],
   "source": [
    "# Access the closing price for SPY from the Alpaca DataFrame\n",
    "# Converting the value to a floating point number\n",
    "spy_close_price = float(closing_prices_df.loc['2020-08-07 04:00:00+00:00', 'SPY'])\n",
    "\n",
    "# Print the SPY closing price\n",
    "print(f\"SPY closing price: ${spy_close_price}\")"
   ]
  },
  {
   "cell_type": "markdown",
   "metadata": {},
   "source": [
    "#### Step 6: Calculate the value, in US dollars, of the current amount of shares in each of the stock and bond portions of the portfolio, and print the results."
   ]
  },
  {
   "cell_type": "code",
   "execution_count": 181,
   "metadata": {},
   "outputs": [
    {
     "name": "stdout",
     "output_type": "stream",
     "text": [
      "Current value of the bond portfolio: $23886.0\n"
     ]
    }
   ],
   "source": [
    "# Calculate the current value of the bond portion of the portfolio\n",
    "agg_value = agg_shares * agg_close_price\n",
    "\n",
    "# Print the current value of the bond portfolio\n",
    "print(f\"Current value of the bond portfolio: ${agg_value}\")\n"
   ]
  },
  {
   "cell_type": "code",
   "execution_count": 182,
   "metadata": {},
   "outputs": [
    {
     "name": "stdout",
     "output_type": "stream",
     "text": [
      "Current value of the stock portfolio: $36802.7\n"
     ]
    }
   ],
   "source": [
    "# Calculate the current value of the stock portion of the portfolio\n",
    "spy_value = spy_shares * spy_close_price\n",
    "\n",
    "# Print the current value of the stock portfolio\n",
    "print(f\"Current value of the stock portfolio: ${spy_value}\")"
   ]
  },
  {
   "cell_type": "code",
   "execution_count": 183,
   "metadata": {},
   "outputs": [
    {
     "name": "stdout",
     "output_type": "stream",
     "text": [
      "Current balance of the stock and bond portion of the portfolio: $60688.7\n"
     ]
    }
   ],
   "source": [
    "# Calculate the total value of the stock and bond portion of the portfolio\n",
    "total_stocks_bonds = agg_value + spy_value\n",
    "\n",
    "# Print the current balance of the stock and bond portion of the portfolio\n",
    "print(f\"Current balance of the stock and bond portion of the portfolio: ${total_stocks_bonds}\")"
   ]
  },
  {
   "cell_type": "code",
   "execution_count": 184,
   "metadata": {},
   "outputs": [
    {
     "name": "stdout",
     "output_type": "stream",
     "text": [
      "Total value of the entire savings portfolio: $108025.938\n"
     ]
    }
   ],
   "source": [
    "# Calculate the total value of the member's entire savings portfolio\n",
    "# Add the value of the cryptocurrency wallet to the value of the total stocks and bonds\n",
    "total_portfolio = total_crypto_wallet + total_stocks_bonds\n",
    "\n",
    "# Print current cryptocurrency wallet balance\n",
    "print(f\"Total value of the entire savings portfolio: ${total_portfolio}\")"
   ]
  },
  {
   "cell_type": "markdown",
   "metadata": {},
   "source": [
    "### Evaluate the Emergency Fund\n",
    "\n",
    "In this section, you’ll use the valuations for the cryptocurrency wallet and for the stock and bond portions of the portfolio to determine if the credit union member has enough savings to build an emergency fund into their financial plan. To do this, complete the following steps:\n",
    "\n",
    "1. Create a Python list named `savings_data` that has two elements. The first element contains the total value of the cryptocurrency wallet. The second element contains the total value of the stock and bond portions of the portfolio.\n",
    "\n",
    "2. Use the `savings_data` list to create a Pandas DataFrame named `savings_df`, and then display this DataFrame. The function to create the DataFrame should take the following three parameters:\n",
    "\n",
    "    - `savings_data`: Use the list that you just created.\n",
    "\n",
    "    - `columns`: Set this parameter equal to a Python list with a single value called `amount`.\n",
    "\n",
    "    - `index`: Set this parameter equal to a Python list with the values of `crypto` and `stock/bond`.\n",
    "\n",
    "3. Use the `savings_df` DataFrame to plot a pie chart that visualizes the composition of the member’s portfolio. The y-axis of the pie chart uses `amount`. Be sure to add a title.\n",
    "\n",
    "4. Using Python, determine if the current portfolio has enough to create an emergency fund as part of the member’s financial plan. Ideally, an emergency fund should equal to three times the member’s monthly income. To do this, implement the following steps:\n",
    "\n",
    "    1. Create a variable named `emergency_fund_value`, and set it equal to three times the value of the member’s `monthly_income` of $12000. (You set this earlier in Part 1).\n",
    "\n",
    "    2. Create a series of three if statements to determine if the member’s total portfolio is large enough to fund the emergency portfolio:\n",
    "\n",
    "        1. If the total portfolio value is greater than the emergency fund value, display a message congratulating the member for having enough money in this fund.\n",
    "\n",
    "        2. Else if the total portfolio value is equal to the emergency fund value, display a message congratulating the member on reaching this important financial goal.\n",
    "\n",
    "        3. Else the total portfolio is less than the emergency fund value, so display a message showing how many dollars away the member is from reaching the goal. (Subtract the total portfolio value from the emergency fund value.)\n"
   ]
  },
  {
   "cell_type": "markdown",
   "metadata": {},
   "source": [
    "#### Step 1: Create a Python list named `savings_data` that has two elements. The first element contains the total value of the cryptocurrency wallet. The second element contains the total value of the stock and bond portions of the portfolio."
   ]
  },
  {
   "cell_type": "code",
   "execution_count": 185,
   "metadata": {},
   "outputs": [
    {
     "name": "stdout",
     "output_type": "stream",
     "text": [
      "[47337.238, 60688.7]\n"
     ]
    }
   ],
   "source": [
    "# Consolidate financial assets data into a Python list\n",
    "savings_data = [total_crypto_wallet, total_stocks_bonds]\n",
    "\n",
    "# Review the Python list savings_data\n",
    "print(savings_data)\n",
    "    "
   ]
  },
  {
   "cell_type": "markdown",
   "metadata": {},
   "source": [
    "#### Step 2: Use the `savings_data` list to create a Pandas DataFrame named `savings_df`, and then display this DataFrame. The function to create the DataFrame should take the following three parameters:\n",
    "\n",
    "- `savings_data`: Use the list that you just created.\n",
    "\n",
    "- `columns`: Set this parameter equal to a Python list with a single value called `amount`.\n",
    "\n",
    "- `index`: Set this parameter equal to a Python list with the values of `crypto` and `stock/bond`.\n"
   ]
  },
  {
   "cell_type": "code",
   "execution_count": 186,
   "metadata": {},
   "outputs": [
    {
     "data": {
      "text/html": [
       "<div>\n",
       "<style scoped>\n",
       "    .dataframe tbody tr th:only-of-type {\n",
       "        vertical-align: middle;\n",
       "    }\n",
       "\n",
       "    .dataframe tbody tr th {\n",
       "        vertical-align: top;\n",
       "    }\n",
       "\n",
       "    .dataframe thead th {\n",
       "        text-align: right;\n",
       "    }\n",
       "</style>\n",
       "<table border=\"1\" class=\"dataframe\">\n",
       "  <thead>\n",
       "    <tr style=\"text-align: right;\">\n",
       "      <th></th>\n",
       "      <th>amount</th>\n",
       "    </tr>\n",
       "  </thead>\n",
       "  <tbody>\n",
       "    <tr>\n",
       "      <th>crypto</th>\n",
       "      <td>47337.238</td>\n",
       "    </tr>\n",
       "    <tr>\n",
       "      <th>stock/bond</th>\n",
       "      <td>60688.700</td>\n",
       "    </tr>\n",
       "  </tbody>\n",
       "</table>\n",
       "</div>"
      ],
      "text/plain": [
       "               amount\n",
       "crypto      47337.238\n",
       "stock/bond  60688.700"
      ]
     },
     "metadata": {},
     "output_type": "display_data"
    }
   ],
   "source": [
    "# Create a Pandas DataFrame called savings_df \n",
    "savings_df = pd.DataFrame(savings_data, columns=[\"amount\"], index=[\"crypto\", \"stock/bond\"])\n",
    "\n",
    "# Display the savings_df DataFrame\n",
    "display(savings_df)\n"
   ]
  },
  {
   "cell_type": "markdown",
   "metadata": {},
   "source": [
    "#### Step 3: Use the `savings_df` DataFrame to plot a pie chart that visualizes the composition of the member’s portfolio. The y-axis of the pie chart uses `amount`. Be sure to add a title."
   ]
  },
  {
   "cell_type": "code",
   "execution_count": 187,
   "metadata": {},
   "outputs": [
    {
     "data": {
      "text/plain": [
       "<AxesSubplot:title={'center':\"Composition of Member's Portfolio\"}, ylabel='amount'>"
      ]
     },
     "execution_count": 187,
     "metadata": {},
     "output_type": "execute_result"
    },
    {
     "data": {
      "image/png": "[encoded data removed]",
      "text/plain": [
       "<Figure size 1000x500 with 1 Axes>"
      ]
     },
     "metadata": {},
     "output_type": "display_data"
    }
   ],
   "source": [
    "# Plot the total value of the member's portfolio (crypto and stock/bond) in a pie chart\n",
    "savings_df.plot.pie(y=\"amount\", title=\"Composition of Member's Portfolio\", figsize=(10, 5))\n"
   ]
  },
  {
   "cell_type": "markdown",
   "metadata": {},
   "source": [
    "#### Step 4: Using Python, determine if the current portfolio has enough to create an emergency fund as part of the member’s financial plan. Ideally, an emergency fund should equal to three times the member’s monthly income. To do this, implement the following steps:\n",
    "\n",
    "Step 1. Create a variable named `emergency_fund_value`, and set it equal to three times the value of the member’s `monthly_income` of 12000. (You set this earlier in Part 1).\n",
    "\n",
    "Step 2. Create a series of three if statements to determine if the member’s total portfolio is large enough to fund the emergency portfolio:\n",
    "\n",
    "* If the total portfolio value is greater than the emergency fund value, display a message congratulating the member for having enough money in this fund.\n",
    "\n",
    "* Else if the total portfolio value is equal to the emergency fund value, display a message congratulating the member on reaching this important financial goal.\n",
    "\n",
    "* Else the total portfolio is less than the emergency fund value, so display a message showing how many dollars away the member is from reaching the goal. (Subtract the total portfolio value from the emergency fund value.)\n"
   ]
  },
  {
   "cell_type": "markdown",
   "metadata": {},
   "source": [
    "##### Step 4-1: Create a variable named `emergency_fund_value`, and set it equal to three times the value of the member’s `monthly_income` of 12000. (You set this earlier in Part 1)."
   ]
  },
  {
   "cell_type": "code",
   "execution_count": 188,
   "metadata": {},
   "outputs": [],
   "source": [
    "# Create a variable named emergency_fund_value\n",
    "emergency_fund_value = 3 * monthly_income"
   ]
  },
  {
   "cell_type": "markdown",
   "metadata": {},
   "source": [
    "##### Step 4-2: Create a series of three if statements to determine if the member’s total portfolio is large enough to fund the emergency portfolio:\n",
    "\n",
    "* If the total portfolio value is greater than the emergency fund value, display a message congratulating the member for having enough money in this fund.\n",
    "\n",
    "* Else if the total portfolio value is equal to the emergency fund value, display a message congratulating the member on reaching this important financial goal.\n",
    "\n",
    "* Else the total portfolio is less than the emergency fund value, so display a message showing how many dollars away the member is from reaching the goal. (Subtract the total portfolio value from the emergency fund value.)"
   ]
  },
  {
   "cell_type": "code",
   "execution_count": 189,
   "metadata": {},
   "outputs": [
    {
     "name": "stdout",
     "output_type": "stream",
     "text": [
      "Congratulations! You have enough money in your emergency fund.\n"
     ]
    }
   ],
   "source": [
    "# Evaluate the possibility of creating an emergency fund with 3 conditions:\n",
    "if total_portfolio > emergency_fund_value:\n",
    "    print(\"Congratulations! You have enough money in your emergency fund.\")\n",
    "elif total_portfolio == emergency_fund_value:\n",
    "    print(\"Congratulations! You have reached your financial goal for the emergency fund.\")\n",
    "else:\n",
    "    amount_needed = emergency_fund_value - total_portfolio\n",
    "    print(f\"You are ${amount_needed} away from reaching your goal for the emergency fund.\")"
   ]
  },
  {
   "cell_type": "markdown",
   "metadata": {},
   "source": [
    "## Part 2: Create a Financial Planner for Retirement"
   ]
  },
  {
   "cell_type": "markdown",
   "metadata": {},
   "source": [
    "### Create the Monte Carlo Simulation\n",
    "\n",
    "In this section, you’ll use the MCForecastTools library to create a Monte Carlo simulation for the member’s savings portfolio. To do this, complete the following steps:\n",
    "\n",
    "1. Make an API call via the Alpaca SDK to get 3 years of historical closing prices for a traditional 60/40 portfolio split: 60% stocks (SPY) and 40% bonds (AGG).\n",
    "\n",
    "2. Run a Monte Carlo simulation of 500 samples and 30 years for the 60/40 portfolio, and then plot the results.The following image shows the overlay line plot resulting from a simulation with these characteristics. However, because a random number generator is used to run each live Monte Carlo simulation, your image will differ slightly from this exact image:\n",
    "\n",
    "![A screenshot depicts the resulting plot.](Images/5-4-monte-carlo-line-plot.png)\n",
    "\n",
    "3. Plot the probability distribution of the Monte Carlo simulation. Plot the probability distribution of the Monte Carlo simulation. The following image shows the histogram plot resulting from a simulation with these characteristics. However, because a random number generator is used to run each live Monte Carlo simulation, your image will differ slightly from this exact image:\n",
    "\n",
    "![A screenshot depicts the histogram plot.](Images/5-4-monte-carlo-histogram.png)\n",
    "\n",
    "4. Generate the summary statistics for the Monte Carlo simulation.\n",
    "\n"
   ]
  },
  {
   "cell_type": "markdown",
   "metadata": {},
   "source": [
    "#### Step 1: Make an API call via the Alpaca SDK to get 3 years of historical closing prices for a traditional 60/40 portfolio split: 60% stocks (SPY) and 40% bonds (AGG)."
   ]
  },
  {
   "cell_type": "code",
   "execution_count": 190,
   "metadata": {},
   "outputs": [],
   "source": [
    "# Set start and end dates of 3 years back from your current date\n",
    "# Alternatively, you can use an end date of 2020-08-07 and work 3 years back from that date \n",
    "start_date = pd.Timestamp(\"2018-08-07\", tz=\"America/New_York\").isoformat()\n",
    "end_date = pd.Timestamp(\"2021-08-07\", tz=\"America/New_York\").isoformat()"
   ]
  },
  {
   "cell_type": "code",
   "execution_count": 191,
   "metadata": {},
   "outputs": [
    {
     "name": "stdout",
     "output_type": "stream",
     "text": [
      "symbol                        AGG     SPY\n",
      "timestamp                                \n",
      "2018-08-07 04:00:00+00:00  105.85  285.58\n",
      "2018-08-08 04:00:00+00:00  105.85  285.44\n",
      "2018-08-09 04:00:00+00:00  106.00  285.09\n",
      "2018-08-10 04:00:00+00:00  106.23  283.16\n",
      "2018-08-13 04:00:00+00:00  106.29  282.08\n",
      "symbol                        AGG     SPY\n",
      "timestamp                                \n",
      "2021-08-02 04:00:00+00:00  116.54  437.59\n",
      "2021-08-03 04:00:00+00:00  116.58  441.15\n",
      "2021-08-04 04:00:00+00:00  116.57  438.98\n",
      "2021-08-05 04:00:00+00:00  116.31  441.76\n",
      "2021-08-06 04:00:00+00:00  115.79  442.49\n"
     ]
    }
   ],
   "source": [
    "# Use the Alpaca get_bars function to make the API call to get the 3 years worth of pricing data\n",
    "# The tickers and timeframe parameters should have been set in Part 1 of this activity \n",
    "# The start and end dates should be updated with the information set above\n",
    "# Remember to add the df property to the end of the call so the response is returned as a DataFrame\n",
    "historical_prices = alpaca.get_bars([\"SPY\", \"AGG\"], '1D', start=start_date, end=end_date).df\n",
    "\n",
    "# Reorganize the DataFrame\n",
    "historical_prices.reset_index(inplace=True)\n",
    "prices_df = historical_prices.pivot(index='timestamp', columns='symbol', values='close')\n",
    "\n",
    "# Display both the first and last five rows of the DataFrame\n",
    "print(prices_df.head())\n",
    "print(prices_df.tail())\n"
   ]
  },
  {
   "cell_type": "markdown",
   "metadata": {},
   "source": [
    "#### Step 2: Run a Monte Carlo simulation of 500 samples and 30 years for the 60/40 portfolio, and then plot the results."
   ]
  },
  {
   "cell_type": "code",
   "execution_count": 192,
   "metadata": {},
   "outputs": [
    {
     "name": "stdout",
     "output_type": "stream",
     "text": [
      "symbol                        AGG     SPY\n",
      "                            close   close\n",
      "timestamp                                \n",
      "2018-08-07 04:00:00+00:00  105.85  285.58\n",
      "2018-08-08 04:00:00+00:00  105.85  285.44\n",
      "2018-08-09 04:00:00+00:00  106.00  285.09\n",
      "2018-08-10 04:00:00+00:00  106.23  283.16\n",
      "2018-08-13 04:00:00+00:00  106.29  282.08\n"
     ]
    }
   ],
   "source": [
    "# Create a multi-level column DataFrame\n",
    "prices_df_multiindex = pd.concat([prices_df], axis=1, keys=[\"close\"])\n",
    "\n",
    "# Set the column names to a multi-level index with the ticker symbols as the first level\n",
    "prices_df_multiindex.columns = pd.MultiIndex.from_product([prices_df.columns, ['close']])\n",
    "\n",
    "# Display the first few rows of the modified DataFrame\n",
    "print(prices_df_multiindex.head())\n"
   ]
  },
  {
   "cell_type": "code",
   "execution_count": 193,
   "metadata": {},
   "outputs": [
    {
     "name": "stdout",
     "output_type": "stream",
     "text": [
      "Running Monte Carlo simulation number 0.\n",
      "Running Monte Carlo simulation number 10.\n",
      "Running Monte Carlo simulation number 20.\n",
      "Running Monte Carlo simulation number 30.\n",
      "Running Monte Carlo simulation number 40.\n",
      "Running Monte Carlo simulation number 50.\n",
      "Running Monte Carlo simulation number 60.\n",
      "Running Monte Carlo simulation number 70.\n",
      "Running Monte Carlo simulation number 80.\n",
      "Running Monte Carlo simulation number 90.\n",
      "Running Monte Carlo simulation number 100.\n"
     ]
    },
    {
     "name": "stderr",
     "output_type": "stream",
     "text": [
      "C:\\Users\\jswhi\\FinTech\\financial_planning_tools\\MCForecastTools.py:117: PerformanceWarning: DataFrame is highly fragmented.  This is usually the result of calling `frame.insert` many times, which has poor performance.  Consider joining all columns at once using pd.concat(axis=1) instead.  To get a de-fragmented frame, use `newframe = frame.copy()`\n",
      "  portfolio_cumulative_returns[n] = (1 + sim_df.fillna(0)).cumprod()\n"
     ]
    },
    {
     "name": "stdout",
     "output_type": "stream",
     "text": [
      "Running Monte Carlo simulation number 110.\n",
      "Running Monte Carlo simulation number 120.\n",
      "Running Monte Carlo simulation number 130.\n",
      "Running Monte Carlo simulation number 140.\n",
      "Running Monte Carlo simulation number 150.\n",
      "Running Monte Carlo simulation number 160.\n",
      "Running Monte Carlo simulation number 170.\n",
      "Running Monte Carlo simulation number 180.\n",
      "Running Monte Carlo simulation number 190.\n",
      "Running Monte Carlo simulation number 200.\n",
      "Running Monte Carlo simulation number 210.\n",
      "Running Monte Carlo simulation number 220.\n",
      "Running Monte Carlo simulation number 230.\n",
      "Running Monte Carlo simulation number 240.\n",
      "Running Monte Carlo simulation number 250.\n",
      "Running Monte Carlo simulation number 260.\n",
      "Running Monte Carlo simulation number 270.\n",
      "Running Monte Carlo simulation number 280.\n",
      "Running Monte Carlo simulation number 290.\n",
      "Running Monte Carlo simulation number 300.\n",
      "Running Monte Carlo simulation number 310.\n",
      "Running Monte Carlo simulation number 320.\n",
      "Running Monte Carlo simulation number 330.\n",
      "Running Monte Carlo simulation number 340.\n",
      "Running Monte Carlo simulation number 350.\n",
      "Running Monte Carlo simulation number 360.\n",
      "Running Monte Carlo simulation number 370.\n",
      "Running Monte Carlo simulation number 380.\n",
      "Running Monte Carlo simulation number 390.\n",
      "Running Monte Carlo simulation number 400.\n",
      "Running Monte Carlo simulation number 410.\n",
      "Running Monte Carlo simulation number 420.\n",
      "Running Monte Carlo simulation number 430.\n",
      "Running Monte Carlo simulation number 440.\n",
      "Running Monte Carlo simulation number 450.\n",
      "Running Monte Carlo simulation number 460.\n",
      "Running Monte Carlo simulation number 470.\n",
      "Running Monte Carlo simulation number 480.\n",
      "Running Monte Carlo simulation number 490.\n"
     ]
    },
    {
     "data": {
      "text/html": [
       "<div>\n",
       "<style scoped>\n",
       "    .dataframe tbody tr th:only-of-type {\n",
       "        vertical-align: middle;\n",
       "    }\n",
       "\n",
       "    .dataframe tbody tr th {\n",
       "        vertical-align: top;\n",
       "    }\n",
       "\n",
       "    .dataframe thead tr th {\n",
       "        text-align: left;\n",
       "    }\n",
       "\n",
       "    .dataframe thead tr:last-of-type th {\n",
       "        text-align: right;\n",
       "    }\n",
       "</style>\n",
       "<table border=\"1\" class=\"dataframe\">\n",
       "  <thead>\n",
       "    <tr>\n",
       "      <th>symbol</th>\n",
       "      <th colspan=\"2\" halign=\"left\">AGG</th>\n",
       "      <th colspan=\"2\" halign=\"left\">SPY</th>\n",
       "    </tr>\n",
       "    <tr>\n",
       "      <th></th>\n",
       "      <th>close</th>\n",
       "      <th>daily_return</th>\n",
       "      <th>close</th>\n",
       "      <th>daily_return</th>\n",
       "    </tr>\n",
       "    <tr>\n",
       "      <th>timestamp</th>\n",
       "      <th></th>\n",
       "      <th></th>\n",
       "      <th></th>\n",
       "      <th></th>\n",
       "    </tr>\n",
       "  </thead>\n",
       "  <tbody>\n",
       "    <tr>\n",
       "      <th>2018-08-07 04:00:00+00:00</th>\n",
       "      <td>105.85</td>\n",
       "      <td>NaN</td>\n",
       "      <td>285.58</td>\n",
       "      <td>NaN</td>\n",
       "    </tr>\n",
       "    <tr>\n",
       "      <th>2018-08-08 04:00:00+00:00</th>\n",
       "      <td>105.85</td>\n",
       "      <td>0.000000</td>\n",
       "      <td>285.44</td>\n",
       "      <td>-0.000490</td>\n",
       "    </tr>\n",
       "    <tr>\n",
       "      <th>2018-08-09 04:00:00+00:00</th>\n",
       "      <td>106.00</td>\n",
       "      <td>0.001417</td>\n",
       "      <td>285.09</td>\n",
       "      <td>-0.001226</td>\n",
       "    </tr>\n",
       "    <tr>\n",
       "      <th>2018-08-10 04:00:00+00:00</th>\n",
       "      <td>106.23</td>\n",
       "      <td>0.002170</td>\n",
       "      <td>283.16</td>\n",
       "      <td>-0.006770</td>\n",
       "    </tr>\n",
       "    <tr>\n",
       "      <th>2018-08-13 04:00:00+00:00</th>\n",
       "      <td>106.29</td>\n",
       "      <td>0.000565</td>\n",
       "      <td>282.08</td>\n",
       "      <td>-0.003814</td>\n",
       "    </tr>\n",
       "  </tbody>\n",
       "</table>\n",
       "</div>"
      ],
      "text/plain": [
       "symbol                        AGG                  SPY             \n",
       "                            close daily_return   close daily_return\n",
       "timestamp                                                          \n",
       "2018-08-07 04:00:00+00:00  105.85          NaN  285.58          NaN\n",
       "2018-08-08 04:00:00+00:00  105.85     0.000000  285.44    -0.000490\n",
       "2018-08-09 04:00:00+00:00  106.00     0.001417  285.09    -0.001226\n",
       "2018-08-10 04:00:00+00:00  106.23     0.002170  283.16    -0.006770\n",
       "2018-08-13 04:00:00+00:00  106.29     0.000565  282.08    -0.003814"
      ]
     },
     "execution_count": 193,
     "metadata": {},
     "output_type": "execute_result"
    }
   ],
   "source": [
    "mc_sim = MCSimulation(\n",
    "    portfolio_data=prices_df_multiindex,\n",
    "    weights=[0.4, 0.6],\n",
    "    num_simulation=500,\n",
    "    num_trading_days=252*30\n",
    ")\n",
    "\n",
    "# Run the Monte Carlo simulation\n",
    "mc_sim.calc_cumulative_return()\n",
    "\n",
    "# Review the simulation input data\n",
    "mc_sim.portfolio_data.head()"
   ]
  },
  {
   "cell_type": "code",
   "execution_count": 194,
   "metadata": {},
   "outputs": [
    {
     "name": "stdout",
     "output_type": "stream",
     "text": [
      "Running Monte Carlo simulation number 0.\n",
      "Running Monte Carlo simulation number 10.\n",
      "Running Monte Carlo simulation number 20.\n",
      "Running Monte Carlo simulation number 30.\n",
      "Running Monte Carlo simulation number 40.\n",
      "Running Monte Carlo simulation number 50.\n",
      "Running Monte Carlo simulation number 60.\n",
      "Running Monte Carlo simulation number 70.\n",
      "Running Monte Carlo simulation number 80.\n",
      "Running Monte Carlo simulation number 90.\n",
      "Running Monte Carlo simulation number 100.\n"
     ]
    },
    {
     "name": "stderr",
     "output_type": "stream",
     "text": [
      "C:\\Users\\jswhi\\FinTech\\financial_planning_tools\\MCForecastTools.py:117: PerformanceWarning: DataFrame is highly fragmented.  This is usually the result of calling `frame.insert` many times, which has poor performance.  Consider joining all columns at once using pd.concat(axis=1) instead.  To get a de-fragmented frame, use `newframe = frame.copy()`\n",
      "  portfolio_cumulative_returns[n] = (1 + sim_df.fillna(0)).cumprod()\n"
     ]
    },
    {
     "name": "stdout",
     "output_type": "stream",
     "text": [
      "Running Monte Carlo simulation number 110.\n",
      "Running Monte Carlo simulation number 120.\n",
      "Running Monte Carlo simulation number 130.\n",
      "Running Monte Carlo simulation number 140.\n",
      "Running Monte Carlo simulation number 150.\n",
      "Running Monte Carlo simulation number 160.\n",
      "Running Monte Carlo simulation number 170.\n",
      "Running Monte Carlo simulation number 180.\n",
      "Running Monte Carlo simulation number 190.\n",
      "Running Monte Carlo simulation number 200.\n",
      "Running Monte Carlo simulation number 210.\n",
      "Running Monte Carlo simulation number 220.\n",
      "Running Monte Carlo simulation number 230.\n",
      "Running Monte Carlo simulation number 240.\n",
      "Running Monte Carlo simulation number 250.\n",
      "Running Monte Carlo simulation number 260.\n",
      "Running Monte Carlo simulation number 270.\n",
      "Running Monte Carlo simulation number 280.\n",
      "Running Monte Carlo simulation number 290.\n",
      "Running Monte Carlo simulation number 300.\n",
      "Running Monte Carlo simulation number 310.\n",
      "Running Monte Carlo simulation number 320.\n",
      "Running Monte Carlo simulation number 330.\n",
      "Running Monte Carlo simulation number 340.\n",
      "Running Monte Carlo simulation number 350.\n",
      "Running Monte Carlo simulation number 360.\n",
      "Running Monte Carlo simulation number 370.\n",
      "Running Monte Carlo simulation number 380.\n",
      "Running Monte Carlo simulation number 390.\n",
      "Running Monte Carlo simulation number 400.\n",
      "Running Monte Carlo simulation number 410.\n",
      "Running Monte Carlo simulation number 420.\n",
      "Running Monte Carlo simulation number 430.\n",
      "Running Monte Carlo simulation number 440.\n",
      "Running Monte Carlo simulation number 450.\n",
      "Running Monte Carlo simulation number 460.\n",
      "Running Monte Carlo simulation number 470.\n",
      "Running Monte Carlo simulation number 480.\n",
      "Running Monte Carlo simulation number 490.\n"
     ]
    },
    {
     "data": {
      "text/html": [
       "<div>\n",
       "<style scoped>\n",
       "    .dataframe tbody tr th:only-of-type {\n",
       "        vertical-align: middle;\n",
       "    }\n",
       "\n",
       "    .dataframe tbody tr th {\n",
       "        vertical-align: top;\n",
       "    }\n",
       "\n",
       "    .dataframe thead th {\n",
       "        text-align: right;\n",
       "    }\n",
       "</style>\n",
       "<table border=\"1\" class=\"dataframe\">\n",
       "  <thead>\n",
       "    <tr style=\"text-align: right;\">\n",
       "      <th></th>\n",
       "      <th>0</th>\n",
       "      <th>1</th>\n",
       "      <th>2</th>\n",
       "      <th>3</th>\n",
       "      <th>4</th>\n",
       "      <th>5</th>\n",
       "      <th>6</th>\n",
       "      <th>7</th>\n",
       "      <th>8</th>\n",
       "      <th>9</th>\n",
       "      <th>...</th>\n",
       "      <th>490</th>\n",
       "      <th>491</th>\n",
       "      <th>492</th>\n",
       "      <th>493</th>\n",
       "      <th>494</th>\n",
       "      <th>495</th>\n",
       "      <th>496</th>\n",
       "      <th>497</th>\n",
       "      <th>498</th>\n",
       "      <th>499</th>\n",
       "    </tr>\n",
       "  </thead>\n",
       "  <tbody>\n",
       "    <tr>\n",
       "      <th>0</th>\n",
       "      <td>1.000000</td>\n",
       "      <td>1.000000</td>\n",
       "      <td>1.000000</td>\n",
       "      <td>1.000000</td>\n",
       "      <td>1.000000</td>\n",
       "      <td>1.000000</td>\n",
       "      <td>1.000000</td>\n",
       "      <td>1.000000</td>\n",
       "      <td>1.000000</td>\n",
       "      <td>1.000000</td>\n",
       "      <td>...</td>\n",
       "      <td>1.000000</td>\n",
       "      <td>1.000000</td>\n",
       "      <td>1.000000</td>\n",
       "      <td>1.000000</td>\n",
       "      <td>1.000000</td>\n",
       "      <td>1.000000</td>\n",
       "      <td>1.000000</td>\n",
       "      <td>1.000000</td>\n",
       "      <td>1.000000</td>\n",
       "      <td>1.000000</td>\n",
       "    </tr>\n",
       "    <tr>\n",
       "      <th>1</th>\n",
       "      <td>1.004902</td>\n",
       "      <td>1.013110</td>\n",
       "      <td>0.989927</td>\n",
       "      <td>0.993598</td>\n",
       "      <td>0.998437</td>\n",
       "      <td>0.995469</td>\n",
       "      <td>1.009425</td>\n",
       "      <td>1.005520</td>\n",
       "      <td>1.001719</td>\n",
       "      <td>0.990497</td>\n",
       "      <td>...</td>\n",
       "      <td>0.996535</td>\n",
       "      <td>1.008376</td>\n",
       "      <td>1.003613</td>\n",
       "      <td>0.999159</td>\n",
       "      <td>0.993845</td>\n",
       "      <td>0.997587</td>\n",
       "      <td>0.998571</td>\n",
       "      <td>0.991664</td>\n",
       "      <td>1.012161</td>\n",
       "      <td>1.004847</td>\n",
       "    </tr>\n",
       "    <tr>\n",
       "      <th>2</th>\n",
       "      <td>1.004846</td>\n",
       "      <td>1.000826</td>\n",
       "      <td>0.982998</td>\n",
       "      <td>0.991459</td>\n",
       "      <td>1.001776</td>\n",
       "      <td>0.983619</td>\n",
       "      <td>0.995749</td>\n",
       "      <td>1.012342</td>\n",
       "      <td>0.995942</td>\n",
       "      <td>0.992291</td>\n",
       "      <td>...</td>\n",
       "      <td>0.993473</td>\n",
       "      <td>1.008936</td>\n",
       "      <td>0.997687</td>\n",
       "      <td>1.000517</td>\n",
       "      <td>0.989929</td>\n",
       "      <td>0.997565</td>\n",
       "      <td>1.013255</td>\n",
       "      <td>0.991497</td>\n",
       "      <td>1.017675</td>\n",
       "      <td>1.026790</td>\n",
       "    </tr>\n",
       "    <tr>\n",
       "      <th>3</th>\n",
       "      <td>0.989824</td>\n",
       "      <td>0.998262</td>\n",
       "      <td>0.989706</td>\n",
       "      <td>0.988030</td>\n",
       "      <td>0.980884</td>\n",
       "      <td>0.974052</td>\n",
       "      <td>0.999546</td>\n",
       "      <td>1.017748</td>\n",
       "      <td>0.996822</td>\n",
       "      <td>0.973758</td>\n",
       "      <td>...</td>\n",
       "      <td>1.000293</td>\n",
       "      <td>1.024362</td>\n",
       "      <td>1.004658</td>\n",
       "      <td>0.991342</td>\n",
       "      <td>0.986734</td>\n",
       "      <td>0.987920</td>\n",
       "      <td>1.008003</td>\n",
       "      <td>0.977543</td>\n",
       "      <td>1.008818</td>\n",
       "      <td>1.032831</td>\n",
       "    </tr>\n",
       "    <tr>\n",
       "      <th>4</th>\n",
       "      <td>0.984700</td>\n",
       "      <td>1.015635</td>\n",
       "      <td>0.999304</td>\n",
       "      <td>0.986685</td>\n",
       "      <td>0.978465</td>\n",
       "      <td>0.966244</td>\n",
       "      <td>1.003210</td>\n",
       "      <td>1.000138</td>\n",
       "      <td>0.987800</td>\n",
       "      <td>0.964099</td>\n",
       "      <td>...</td>\n",
       "      <td>0.992184</td>\n",
       "      <td>1.024709</td>\n",
       "      <td>1.017501</td>\n",
       "      <td>1.001156</td>\n",
       "      <td>0.999659</td>\n",
       "      <td>0.990032</td>\n",
       "      <td>1.001735</td>\n",
       "      <td>0.979342</td>\n",
       "      <td>1.005663</td>\n",
       "      <td>1.026008</td>\n",
       "    </tr>\n",
       "    <tr>\n",
       "      <th>...</th>\n",
       "      <td>...</td>\n",
       "      <td>...</td>\n",
       "      <td>...</td>\n",
       "      <td>...</td>\n",
       "      <td>...</td>\n",
       "      <td>...</td>\n",
       "      <td>...</td>\n",
       "      <td>...</td>\n",
       "      <td>...</td>\n",
       "      <td>...</td>\n",
       "      <td>...</td>\n",
       "      <td>...</td>\n",
       "      <td>...</td>\n",
       "      <td>...</td>\n",
       "      <td>...</td>\n",
       "      <td>...</td>\n",
       "      <td>...</td>\n",
       "      <td>...</td>\n",
       "      <td>...</td>\n",
       "      <td>...</td>\n",
       "      <td>...</td>\n",
       "    </tr>\n",
       "    <tr>\n",
       "      <th>7556</th>\n",
       "      <td>42.983900</td>\n",
       "      <td>19.349059</td>\n",
       "      <td>37.006043</td>\n",
       "      <td>82.915633</td>\n",
       "      <td>19.117315</td>\n",
       "      <td>18.380159</td>\n",
       "      <td>12.590683</td>\n",
       "      <td>46.306627</td>\n",
       "      <td>46.551141</td>\n",
       "      <td>20.682144</td>\n",
       "      <td>...</td>\n",
       "      <td>35.385869</td>\n",
       "      <td>13.063227</td>\n",
       "      <td>28.666831</td>\n",
       "      <td>25.317306</td>\n",
       "      <td>62.838027</td>\n",
       "      <td>15.017336</td>\n",
       "      <td>23.980515</td>\n",
       "      <td>39.915245</td>\n",
       "      <td>15.913899</td>\n",
       "      <td>15.379052</td>\n",
       "    </tr>\n",
       "    <tr>\n",
       "      <th>7557</th>\n",
       "      <td>43.050387</td>\n",
       "      <td>19.258014</td>\n",
       "      <td>36.610688</td>\n",
       "      <td>82.220662</td>\n",
       "      <td>19.163936</td>\n",
       "      <td>18.483346</td>\n",
       "      <td>12.638819</td>\n",
       "      <td>45.799130</td>\n",
       "      <td>46.306550</td>\n",
       "      <td>20.413102</td>\n",
       "      <td>...</td>\n",
       "      <td>35.156653</td>\n",
       "      <td>12.846396</td>\n",
       "      <td>28.588185</td>\n",
       "      <td>25.280941</td>\n",
       "      <td>63.265069</td>\n",
       "      <td>15.056770</td>\n",
       "      <td>24.308202</td>\n",
       "      <td>40.126890</td>\n",
       "      <td>15.963103</td>\n",
       "      <td>15.370514</td>\n",
       "    </tr>\n",
       "    <tr>\n",
       "      <th>7558</th>\n",
       "      <td>42.660075</td>\n",
       "      <td>19.158671</td>\n",
       "      <td>36.560799</td>\n",
       "      <td>82.546258</td>\n",
       "      <td>19.016514</td>\n",
       "      <td>18.504055</td>\n",
       "      <td>12.719084</td>\n",
       "      <td>46.271006</td>\n",
       "      <td>46.289581</td>\n",
       "      <td>20.092075</td>\n",
       "      <td>...</td>\n",
       "      <td>34.988225</td>\n",
       "      <td>12.692704</td>\n",
       "      <td>28.577526</td>\n",
       "      <td>25.138099</td>\n",
       "      <td>63.771954</td>\n",
       "      <td>14.967637</td>\n",
       "      <td>24.357002</td>\n",
       "      <td>40.418164</td>\n",
       "      <td>16.018040</td>\n",
       "      <td>15.414255</td>\n",
       "    </tr>\n",
       "    <tr>\n",
       "      <th>7559</th>\n",
       "      <td>42.832014</td>\n",
       "      <td>18.944802</td>\n",
       "      <td>36.901881</td>\n",
       "      <td>83.557182</td>\n",
       "      <td>18.927603</td>\n",
       "      <td>18.263502</td>\n",
       "      <td>12.837944</td>\n",
       "      <td>45.219499</td>\n",
       "      <td>46.478511</td>\n",
       "      <td>19.953954</td>\n",
       "      <td>...</td>\n",
       "      <td>35.004601</td>\n",
       "      <td>12.779174</td>\n",
       "      <td>28.596718</td>\n",
       "      <td>25.339646</td>\n",
       "      <td>63.982721</td>\n",
       "      <td>14.909510</td>\n",
       "      <td>24.240093</td>\n",
       "      <td>40.304042</td>\n",
       "      <td>16.054756</td>\n",
       "      <td>15.585414</td>\n",
       "    </tr>\n",
       "    <tr>\n",
       "      <th>7560</th>\n",
       "      <td>43.786985</td>\n",
       "      <td>18.966998</td>\n",
       "      <td>37.401018</td>\n",
       "      <td>84.072825</td>\n",
       "      <td>19.118241</td>\n",
       "      <td>18.124316</td>\n",
       "      <td>13.015124</td>\n",
       "      <td>44.331326</td>\n",
       "      <td>46.696492</td>\n",
       "      <td>20.165380</td>\n",
       "      <td>...</td>\n",
       "      <td>35.074747</td>\n",
       "      <td>12.885245</td>\n",
       "      <td>28.422904</td>\n",
       "      <td>25.422059</td>\n",
       "      <td>63.553865</td>\n",
       "      <td>14.673742</td>\n",
       "      <td>24.178285</td>\n",
       "      <td>40.815688</td>\n",
       "      <td>16.017826</td>\n",
       "      <td>15.611678</td>\n",
       "    </tr>\n",
       "  </tbody>\n",
       "</table>\n",
       "<p>7561 rows × 500 columns</p>\n",
       "</div>"
      ],
      "text/plain": [
       "            0          1          2          3          4          5    \\\n",
       "0      1.000000   1.000000   1.000000   1.000000   1.000000   1.000000   \n",
       "1      1.004902   1.013110   0.989927   0.993598   0.998437   0.995469   \n",
       "2      1.004846   1.000826   0.982998   0.991459   1.001776   0.983619   \n",
       "3      0.989824   0.998262   0.989706   0.988030   0.980884   0.974052   \n",
       "4      0.984700   1.015635   0.999304   0.986685   0.978465   0.966244   \n",
       "...         ...        ...        ...        ...        ...        ...   \n",
       "7556  42.983900  19.349059  37.006043  82.915633  19.117315  18.380159   \n",
       "7557  43.050387  19.258014  36.610688  82.220662  19.163936  18.483346   \n",
       "7558  42.660075  19.158671  36.560799  82.546258  19.016514  18.504055   \n",
       "7559  42.832014  18.944802  36.901881  83.557182  18.927603  18.263502   \n",
       "7560  43.786985  18.966998  37.401018  84.072825  19.118241  18.124316   \n",
       "\n",
       "            6          7          8          9    ...        490        491  \\\n",
       "0      1.000000   1.000000   1.000000   1.000000  ...   1.000000   1.000000   \n",
       "1      1.009425   1.005520   1.001719   0.990497  ...   0.996535   1.008376   \n",
       "2      0.995749   1.012342   0.995942   0.992291  ...   0.993473   1.008936   \n",
       "3      0.999546   1.017748   0.996822   0.973758  ...   1.000293   1.024362   \n",
       "4      1.003210   1.000138   0.987800   0.964099  ...   0.992184   1.024709   \n",
       "...         ...        ...        ...        ...  ...        ...        ...   \n",
       "7556  12.590683  46.306627  46.551141  20.682144  ...  35.385869  13.063227   \n",
       "7557  12.638819  45.799130  46.306550  20.413102  ...  35.156653  12.846396   \n",
       "7558  12.719084  46.271006  46.289581  20.092075  ...  34.988225  12.692704   \n",
       "7559  12.837944  45.219499  46.478511  19.953954  ...  35.004601  12.779174   \n",
       "7560  13.015124  44.331326  46.696492  20.165380  ...  35.074747  12.885245   \n",
       "\n",
       "            492        493        494        495        496        497  \\\n",
       "0      1.000000   1.000000   1.000000   1.000000   1.000000   1.000000   \n",
       "1      1.003613   0.999159   0.993845   0.997587   0.998571   0.991664   \n",
       "2      0.997687   1.000517   0.989929   0.997565   1.013255   0.991497   \n",
       "3      1.004658   0.991342   0.986734   0.987920   1.008003   0.977543   \n",
       "4      1.017501   1.001156   0.999659   0.990032   1.001735   0.979342   \n",
       "...         ...        ...        ...        ...        ...        ...   \n",
       "7556  28.666831  25.317306  62.838027  15.017336  23.980515  39.915245   \n",
       "7557  28.588185  25.280941  63.265069  15.056770  24.308202  40.126890   \n",
       "7558  28.577526  25.138099  63.771954  14.967637  24.357002  40.418164   \n",
       "7559  28.596718  25.339646  63.982721  14.909510  24.240093  40.304042   \n",
       "7560  28.422904  25.422059  63.553865  14.673742  24.178285  40.815688   \n",
       "\n",
       "            498        499  \n",
       "0      1.000000   1.000000  \n",
       "1      1.012161   1.004847  \n",
       "2      1.017675   1.026790  \n",
       "3      1.008818   1.032831  \n",
       "4      1.005663   1.026008  \n",
       "...         ...        ...  \n",
       "7556  15.913899  15.379052  \n",
       "7557  15.963103  15.370514  \n",
       "7558  16.018040  15.414255  \n",
       "7559  16.054756  15.585414  \n",
       "7560  16.017826  15.611678  \n",
       "\n",
       "[7561 rows x 500 columns]"
      ]
     },
     "execution_count": 194,
     "metadata": {},
     "output_type": "execute_result"
    }
   ],
   "source": [
    "# Run the Monte Carlo simulation to forecast 30 years cumulative returns\n",
    "mc_sim.calc_cumulative_return()\n"
   ]
  },
  {
   "cell_type": "code",
   "execution_count": 195,
   "metadata": {},
   "outputs": [
    {
     "data": {
      "text/plain": [
       "<AxesSubplot:title={'center':'500 Simulations of Cumulative Portfolio Return Trajectories Over the Next 7560 Trading Days.'}>"
      ]
     },
     "execution_count": 195,
     "metadata": {},
     "output_type": "execute_result"
    },
    {
     "data": {
      "image/png": "[encoded data removed]",
      "text/plain": [
       "<Figure size 640x480 with 1 Axes>"
      ]
     },
     "metadata": {},
     "output_type": "display_data"
    }
   ],
   "source": [
    "# Visualize the 30-year Monte Carlo simulation by creating an\n",
    "# overlay line plot\n",
    "mc_sim.plot_simulation()"
   ]
  },
  {
   "cell_type": "markdown",
   "metadata": {},
   "source": [
    "#### Step 3: Plot the probability distribution of the Monte Carlo simulation."
   ]
  },
  {
   "cell_type": "code",
   "execution_count": 196,
   "metadata": {},
   "outputs": [
    {
     "data": {
      "text/plain": [
       "<AxesSubplot:title={'center':'Distribution of Final Cumuluative Returns Across All 500 Simulations'}, ylabel='Frequency'>"
      ]
     },
     "execution_count": 196,
     "metadata": {},
     "output_type": "execute_result"
    },
    {
     "data": {
      "image/png": "[encoded data removed]",
      "text/plain": [
       "<Figure size 640x480 with 1 Axes>"
      ]
     },
     "metadata": {},
     "output_type": "display_data"
    }
   ],
   "source": [
    "# Visualize the probability distribution of the 30-year Monte Carlo simulation \n",
    "# by plotting a histogram\n",
    "mc_sim.plot_distribution()"
   ]
  },
  {
   "cell_type": "markdown",
   "metadata": {},
   "source": [
    "#### Step 4: Generate the summary statistics for the Monte Carlo simulation."
   ]
  },
  {
   "cell_type": "code",
   "execution_count": 197,
   "metadata": {},
   "outputs": [
    {
     "name": "stdout",
     "output_type": "stream",
     "text": [
      "count           500.000000\n",
      "mean             30.637947\n",
      "std              24.578830\n",
      "min               2.713729\n",
      "25%              13.359512\n",
      "50%              24.040092\n",
      "75%              38.786498\n",
      "max             154.821887\n",
      "95% CI Lower      5.927069\n",
      "95% CI Upper    108.290584\n",
      "Name: 7560, dtype: float64\n"
     ]
    }
   ],
   "source": [
    "# Generate summary statistics from the 30-year Monte Carlo simulation results\n",
    "# Save the results as a variable\n",
    "summary_stats = mc_sim.summarize_cumulative_return()\n",
    "\n",
    "\n",
    "# Review the 30-year Monte Carlo summary statistics\n",
    "print(summary_stats)"
   ]
  },
  {
   "cell_type": "markdown",
   "metadata": {},
   "source": [
    "### Analyze the Retirement Portfolio Forecasts\n",
    "\n",
    "Using the current value of only the stock and bond portion of the member's portfolio and the summary statistics that you generated from the Monte Carlo simulation, answer the following question in your Jupyter notebook:\n",
    "\n",
    "-  What are the lower and upper bounds for the expected value of the portfolio with a 95% confidence interval?\n"
   ]
  },
  {
   "cell_type": "code",
   "execution_count": 198,
   "metadata": {},
   "outputs": [
    {
     "name": "stdout",
     "output_type": "stream",
     "text": [
      "Current balance of the stock and bond portion of the portfolio: $60688.7\n"
     ]
    }
   ],
   "source": [
    "# Print the current balance of the stock and bond portion of the members portfolio\n",
    "print(f\"Current balance of the stock and bond portion of the portfolio: ${total_stocks_bonds}\")\n",
    "\n"
   ]
  },
  {
   "cell_type": "code",
   "execution_count": 199,
   "metadata": {},
   "outputs": [
    {
     "name": "stdout",
     "output_type": "stream",
     "text": [
      "Lower bound (95% confidence interval) for the portfolio in 30 years: $359706.09306606936\n",
      "Upper bound (95% confidence interval) for the portfolio in 30 years: $6572014.780635374\n"
     ]
    }
   ],
   "source": [
    "# Use the lower and upper `95%` confidence intervals to calculate the range of the possible outcomes for the current stock/bond portfolio\n",
    "ci_lower_thirty_cumulative_return = summary_stats[8] * total_stocks_bonds\n",
    "ci_upper_thirty_cumulative_return = summary_stats[9] * total_stocks_bonds\n",
    "\n",
    "# Print the result of your calculations\n",
    "print(f\"Lower bound (95% confidence interval) for the portfolio in 30 years: ${ci_lower_thirty_cumulative_return}\")\n",
    "print(f\"Upper bound (95% confidence interval) for the portfolio in 30 years: ${ci_upper_thirty_cumulative_return}\")\n"
   ]
  },
  {
   "cell_type": "markdown",
   "metadata": {},
   "source": [
    "### Forecast Cumulative Returns in 10 Years\n",
    "\n",
    "The CTO of the credit union is impressed with your work on these planning tools but wonders if 30 years is a long time to wait until retirement. So, your next task is to adjust the retirement portfolio and run a new Monte Carlo simulation to find out if the changes will allow members to retire earlier.\n",
    "\n",
    "For this new Monte Carlo simulation, do the following: \n",
    "\n",
    "- Forecast the cumulative returns for 10 years from now. Because of the shortened investment horizon (30 years to 10 years), the portfolio needs to invest more heavily in the riskier asset&mdash;that is, stock&mdash;to help accumulate wealth for retirement. \n",
    "\n",
    "- Adjust the weights of the retirement portfolio so that the composition for the Monte Carlo simulation consists of 20% bonds and 80% stocks. \n",
    "\n",
    "- Run the simulation over 500 samples, and use the same data that the API call to Alpaca generated.\n",
    "\n",
    "- Based on the new Monte Carlo simulation, answer the following questions in your Jupyter notebook:\n",
    "\n",
    "    - Using the current value of only the stock and bond portion of the member's portfolio and the summary statistics that you generated from the new Monte Carlo simulation, what are the lower and upper bounds for the expected value of the portfolio (with the new weights) with a 95% confidence interval?\n",
    "\n",
    "    - Will weighting the portfolio more heavily toward stocks allow the credit union members to retire after only 10 years?\n"
   ]
  },
  {
   "cell_type": "code",
   "execution_count": 200,
   "metadata": {},
   "outputs": [],
   "source": [
    "# Create a multi-level column DataFrame\n",
    "prices_df_multiindex = pd.concat([prices_df], axis=1, keys=[\"close\"])\n",
    "\n",
    "# Set the column names to a multi-level index with the ticker symbols as the first level\n",
    "prices_df_multiindex.columns = pd.MultiIndex.from_product([prices_df.columns, ['close']])\n"
   ]
  },
  {
   "cell_type": "code",
   "execution_count": 201,
   "metadata": {},
   "outputs": [
    {
     "data": {
      "text/html": [
       "<div>\n",
       "<style scoped>\n",
       "    .dataframe tbody tr th:only-of-type {\n",
       "        vertical-align: middle;\n",
       "    }\n",
       "\n",
       "    .dataframe tbody tr th {\n",
       "        vertical-align: top;\n",
       "    }\n",
       "\n",
       "    .dataframe thead tr th {\n",
       "        text-align: left;\n",
       "    }\n",
       "\n",
       "    .dataframe thead tr:last-of-type th {\n",
       "        text-align: right;\n",
       "    }\n",
       "</style>\n",
       "<table border=\"1\" class=\"dataframe\">\n",
       "  <thead>\n",
       "    <tr>\n",
       "      <th>symbol</th>\n",
       "      <th colspan=\"2\" halign=\"left\">AGG</th>\n",
       "      <th colspan=\"2\" halign=\"left\">SPY</th>\n",
       "    </tr>\n",
       "    <tr>\n",
       "      <th></th>\n",
       "      <th>close</th>\n",
       "      <th>daily_return</th>\n",
       "      <th>close</th>\n",
       "      <th>daily_return</th>\n",
       "    </tr>\n",
       "    <tr>\n",
       "      <th>timestamp</th>\n",
       "      <th></th>\n",
       "      <th></th>\n",
       "      <th></th>\n",
       "      <th></th>\n",
       "    </tr>\n",
       "  </thead>\n",
       "  <tbody>\n",
       "    <tr>\n",
       "      <th>2018-08-07 04:00:00+00:00</th>\n",
       "      <td>105.85</td>\n",
       "      <td>NaN</td>\n",
       "      <td>285.58</td>\n",
       "      <td>NaN</td>\n",
       "    </tr>\n",
       "    <tr>\n",
       "      <th>2018-08-08 04:00:00+00:00</th>\n",
       "      <td>105.85</td>\n",
       "      <td>0.000000</td>\n",
       "      <td>285.44</td>\n",
       "      <td>-0.000490</td>\n",
       "    </tr>\n",
       "    <tr>\n",
       "      <th>2018-08-09 04:00:00+00:00</th>\n",
       "      <td>106.00</td>\n",
       "      <td>0.001417</td>\n",
       "      <td>285.09</td>\n",
       "      <td>-0.001226</td>\n",
       "    </tr>\n",
       "    <tr>\n",
       "      <th>2018-08-10 04:00:00+00:00</th>\n",
       "      <td>106.23</td>\n",
       "      <td>0.002170</td>\n",
       "      <td>283.16</td>\n",
       "      <td>-0.006770</td>\n",
       "    </tr>\n",
       "    <tr>\n",
       "      <th>2018-08-13 04:00:00+00:00</th>\n",
       "      <td>106.29</td>\n",
       "      <td>0.000565</td>\n",
       "      <td>282.08</td>\n",
       "      <td>-0.003814</td>\n",
       "    </tr>\n",
       "  </tbody>\n",
       "</table>\n",
       "</div>"
      ],
      "text/plain": [
       "symbol                        AGG                  SPY             \n",
       "                            close daily_return   close daily_return\n",
       "timestamp                                                          \n",
       "2018-08-07 04:00:00+00:00  105.85          NaN  285.58          NaN\n",
       "2018-08-08 04:00:00+00:00  105.85     0.000000  285.44    -0.000490\n",
       "2018-08-09 04:00:00+00:00  106.00     0.001417  285.09    -0.001226\n",
       "2018-08-10 04:00:00+00:00  106.23     0.002170  283.16    -0.006770\n",
       "2018-08-13 04:00:00+00:00  106.29     0.000565  282.08    -0.003814"
      ]
     },
     "execution_count": 201,
     "metadata": {},
     "output_type": "execute_result"
    }
   ],
   "source": [
    "# Configure a Monte Carlo simulation to forecast 10 years cumulative returns\n",
    "# The weights should be split 20% to AGG and 80% to SPY.\n",
    "# Run 500 samples.\n",
    "ten_year_simulation = MCSimulation(\n",
    "    portfolio_data=prices_df_multiindex,\n",
    "    weights=[0.2, 0.8],\n",
    "    num_simulation=500,\n",
    "    num_trading_days=252*10\n",
    ")\n",
    "\n",
    "# Review the simulation input data\n",
    "ten_year_simulation.portfolio_data.head()\n"
   ]
  },
  {
   "cell_type": "code",
   "execution_count": 202,
   "metadata": {},
   "outputs": [
    {
     "name": "stdout",
     "output_type": "stream",
     "text": [
      "Running Monte Carlo simulation number 0.\n",
      "Running Monte Carlo simulation number 10.\n",
      "Running Monte Carlo simulation number 20.\n",
      "Running Monte Carlo simulation number 30.\n",
      "Running Monte Carlo simulation number 40.\n",
      "Running Monte Carlo simulation number 50.\n",
      "Running Monte Carlo simulation number 60.\n",
      "Running Monte Carlo simulation number 70.\n",
      "Running Monte Carlo simulation number 80.\n",
      "Running Monte Carlo simulation number 90.\n",
      "Running Monte Carlo simulation number 100.\n"
     ]
    },
    {
     "name": "stderr",
     "output_type": "stream",
     "text": [
      "C:\\Users\\jswhi\\FinTech\\financial_planning_tools\\MCForecastTools.py:117: PerformanceWarning: DataFrame is highly fragmented.  This is usually the result of calling `frame.insert` many times, which has poor performance.  Consider joining all columns at once using pd.concat(axis=1) instead.  To get a de-fragmented frame, use `newframe = frame.copy()`\n",
      "  portfolio_cumulative_returns[n] = (1 + sim_df.fillna(0)).cumprod()\n"
     ]
    },
    {
     "name": "stdout",
     "output_type": "stream",
     "text": [
      "Running Monte Carlo simulation number 110.\n",
      "Running Monte Carlo simulation number 120.\n",
      "Running Monte Carlo simulation number 130.\n",
      "Running Monte Carlo simulation number 140.\n",
      "Running Monte Carlo simulation number 150.\n",
      "Running Monte Carlo simulation number 160.\n",
      "Running Monte Carlo simulation number 170.\n",
      "Running Monte Carlo simulation number 180.\n",
      "Running Monte Carlo simulation number 190.\n",
      "Running Monte Carlo simulation number 200.\n",
      "Running Monte Carlo simulation number 210.\n",
      "Running Monte Carlo simulation number 220.\n",
      "Running Monte Carlo simulation number 230.\n",
      "Running Monte Carlo simulation number 240.\n",
      "Running Monte Carlo simulation number 250.\n",
      "Running Monte Carlo simulation number 260.\n",
      "Running Monte Carlo simulation number 270.\n",
      "Running Monte Carlo simulation number 280.\n",
      "Running Monte Carlo simulation number 290.\n",
      "Running Monte Carlo simulation number 300.\n",
      "Running Monte Carlo simulation number 310.\n",
      "Running Monte Carlo simulation number 320.\n",
      "Running Monte Carlo simulation number 330.\n",
      "Running Monte Carlo simulation number 340.\n",
      "Running Monte Carlo simulation number 350.\n",
      "Running Monte Carlo simulation number 360.\n",
      "Running Monte Carlo simulation number 370.\n",
      "Running Monte Carlo simulation number 380.\n",
      "Running Monte Carlo simulation number 390.\n",
      "Running Monte Carlo simulation number 400.\n",
      "Running Monte Carlo simulation number 410.\n",
      "Running Monte Carlo simulation number 420.\n",
      "Running Monte Carlo simulation number 430.\n",
      "Running Monte Carlo simulation number 440.\n",
      "Running Monte Carlo simulation number 450.\n",
      "Running Monte Carlo simulation number 460.\n",
      "Running Monte Carlo simulation number 470.\n",
      "Running Monte Carlo simulation number 480.\n",
      "Running Monte Carlo simulation number 490.\n"
     ]
    },
    {
     "data": {
      "text/html": [
       "<div>\n",
       "<style scoped>\n",
       "    .dataframe tbody tr th:only-of-type {\n",
       "        vertical-align: middle;\n",
       "    }\n",
       "\n",
       "    .dataframe tbody tr th {\n",
       "        vertical-align: top;\n",
       "    }\n",
       "\n",
       "    .dataframe thead th {\n",
       "        text-align: right;\n",
       "    }\n",
       "</style>\n",
       "<table border=\"1\" class=\"dataframe\">\n",
       "  <thead>\n",
       "    <tr style=\"text-align: right;\">\n",
       "      <th></th>\n",
       "      <th>0</th>\n",
       "      <th>1</th>\n",
       "      <th>2</th>\n",
       "      <th>3</th>\n",
       "      <th>4</th>\n",
       "      <th>5</th>\n",
       "      <th>6</th>\n",
       "      <th>7</th>\n",
       "      <th>8</th>\n",
       "      <th>9</th>\n",
       "      <th>...</th>\n",
       "      <th>490</th>\n",
       "      <th>491</th>\n",
       "      <th>492</th>\n",
       "      <th>493</th>\n",
       "      <th>494</th>\n",
       "      <th>495</th>\n",
       "      <th>496</th>\n",
       "      <th>497</th>\n",
       "      <th>498</th>\n",
       "      <th>499</th>\n",
       "    </tr>\n",
       "  </thead>\n",
       "  <tbody>\n",
       "    <tr>\n",
       "      <th>0</th>\n",
       "      <td>1.000000</td>\n",
       "      <td>1.000000</td>\n",
       "      <td>1.000000</td>\n",
       "      <td>1.000000</td>\n",
       "      <td>1.000000</td>\n",
       "      <td>1.000000</td>\n",
       "      <td>1.000000</td>\n",
       "      <td>1.000000</td>\n",
       "      <td>1.000000</td>\n",
       "      <td>1.000000</td>\n",
       "      <td>...</td>\n",
       "      <td>1.000000</td>\n",
       "      <td>1.000000</td>\n",
       "      <td>1.000000</td>\n",
       "      <td>1.000000</td>\n",
       "      <td>1.000000</td>\n",
       "      <td>1.000000</td>\n",
       "      <td>1.000000</td>\n",
       "      <td>1.000000</td>\n",
       "      <td>1.000000</td>\n",
       "      <td>1.000000</td>\n",
       "    </tr>\n",
       "    <tr>\n",
       "      <th>1</th>\n",
       "      <td>0.992070</td>\n",
       "      <td>1.015190</td>\n",
       "      <td>1.001874</td>\n",
       "      <td>0.985955</td>\n",
       "      <td>1.009008</td>\n",
       "      <td>0.990884</td>\n",
       "      <td>1.019575</td>\n",
       "      <td>0.976787</td>\n",
       "      <td>0.997475</td>\n",
       "      <td>1.007077</td>\n",
       "      <td>...</td>\n",
       "      <td>1.013094</td>\n",
       "      <td>0.996289</td>\n",
       "      <td>0.996695</td>\n",
       "      <td>1.005266</td>\n",
       "      <td>0.996563</td>\n",
       "      <td>1.006408</td>\n",
       "      <td>0.976538</td>\n",
       "      <td>0.992151</td>\n",
       "      <td>1.009500</td>\n",
       "      <td>1.002215</td>\n",
       "    </tr>\n",
       "    <tr>\n",
       "      <th>2</th>\n",
       "      <td>0.982706</td>\n",
       "      <td>1.019349</td>\n",
       "      <td>0.991459</td>\n",
       "      <td>1.002647</td>\n",
       "      <td>1.015056</td>\n",
       "      <td>0.976705</td>\n",
       "      <td>1.028392</td>\n",
       "      <td>0.979370</td>\n",
       "      <td>1.030065</td>\n",
       "      <td>1.018760</td>\n",
       "      <td>...</td>\n",
       "      <td>1.032554</td>\n",
       "      <td>1.015597</td>\n",
       "      <td>0.989734</td>\n",
       "      <td>0.977495</td>\n",
       "      <td>1.007810</td>\n",
       "      <td>1.009866</td>\n",
       "      <td>0.966279</td>\n",
       "      <td>0.997949</td>\n",
       "      <td>1.004255</td>\n",
       "      <td>1.016235</td>\n",
       "    </tr>\n",
       "    <tr>\n",
       "      <th>3</th>\n",
       "      <td>0.993470</td>\n",
       "      <td>1.026211</td>\n",
       "      <td>1.002109</td>\n",
       "      <td>0.998989</td>\n",
       "      <td>1.026667</td>\n",
       "      <td>0.987740</td>\n",
       "      <td>1.019482</td>\n",
       "      <td>0.978159</td>\n",
       "      <td>1.034284</td>\n",
       "      <td>1.024565</td>\n",
       "      <td>...</td>\n",
       "      <td>1.030997</td>\n",
       "      <td>1.021257</td>\n",
       "      <td>0.974490</td>\n",
       "      <td>0.963793</td>\n",
       "      <td>1.015111</td>\n",
       "      <td>1.017006</td>\n",
       "      <td>0.950653</td>\n",
       "      <td>0.995267</td>\n",
       "      <td>0.995211</td>\n",
       "      <td>0.999994</td>\n",
       "    </tr>\n",
       "    <tr>\n",
       "      <th>4</th>\n",
       "      <td>1.000019</td>\n",
       "      <td>1.020124</td>\n",
       "      <td>1.006459</td>\n",
       "      <td>1.001879</td>\n",
       "      <td>1.037445</td>\n",
       "      <td>0.997308</td>\n",
       "      <td>1.017112</td>\n",
       "      <td>0.986542</td>\n",
       "      <td>1.038605</td>\n",
       "      <td>1.016114</td>\n",
       "      <td>...</td>\n",
       "      <td>1.036251</td>\n",
       "      <td>1.036876</td>\n",
       "      <td>0.946750</td>\n",
       "      <td>0.969846</td>\n",
       "      <td>1.017795</td>\n",
       "      <td>1.014359</td>\n",
       "      <td>0.957191</td>\n",
       "      <td>0.995187</td>\n",
       "      <td>1.001503</td>\n",
       "      <td>0.985879</td>\n",
       "    </tr>\n",
       "    <tr>\n",
       "      <th>...</th>\n",
       "      <td>...</td>\n",
       "      <td>...</td>\n",
       "      <td>...</td>\n",
       "      <td>...</td>\n",
       "      <td>...</td>\n",
       "      <td>...</td>\n",
       "      <td>...</td>\n",
       "      <td>...</td>\n",
       "      <td>...</td>\n",
       "      <td>...</td>\n",
       "      <td>...</td>\n",
       "      <td>...</td>\n",
       "      <td>...</td>\n",
       "      <td>...</td>\n",
       "      <td>...</td>\n",
       "      <td>...</td>\n",
       "      <td>...</td>\n",
       "      <td>...</td>\n",
       "      <td>...</td>\n",
       "      <td>...</td>\n",
       "      <td>...</td>\n",
       "    </tr>\n",
       "    <tr>\n",
       "      <th>2516</th>\n",
       "      <td>4.131559</td>\n",
       "      <td>0.943868</td>\n",
       "      <td>10.958612</td>\n",
       "      <td>2.311079</td>\n",
       "      <td>4.360265</td>\n",
       "      <td>2.069611</td>\n",
       "      <td>3.595601</td>\n",
       "      <td>3.092119</td>\n",
       "      <td>6.442778</td>\n",
       "      <td>0.814883</td>\n",
       "      <td>...</td>\n",
       "      <td>6.862646</td>\n",
       "      <td>6.358003</td>\n",
       "      <td>2.929054</td>\n",
       "      <td>3.407170</td>\n",
       "      <td>9.065220</td>\n",
       "      <td>2.693558</td>\n",
       "      <td>6.890724</td>\n",
       "      <td>2.292816</td>\n",
       "      <td>1.372566</td>\n",
       "      <td>8.315131</td>\n",
       "    </tr>\n",
       "    <tr>\n",
       "      <th>2517</th>\n",
       "      <td>4.167979</td>\n",
       "      <td>0.965658</td>\n",
       "      <td>10.866778</td>\n",
       "      <td>2.277618</td>\n",
       "      <td>4.422707</td>\n",
       "      <td>2.044896</td>\n",
       "      <td>3.646459</td>\n",
       "      <td>3.108195</td>\n",
       "      <td>6.528397</td>\n",
       "      <td>0.826203</td>\n",
       "      <td>...</td>\n",
       "      <td>6.830253</td>\n",
       "      <td>6.390006</td>\n",
       "      <td>2.934492</td>\n",
       "      <td>3.391423</td>\n",
       "      <td>8.971627</td>\n",
       "      <td>2.642651</td>\n",
       "      <td>6.952354</td>\n",
       "      <td>2.316583</td>\n",
       "      <td>1.383554</td>\n",
       "      <td>8.292875</td>\n",
       "    </tr>\n",
       "    <tr>\n",
       "      <th>2518</th>\n",
       "      <td>4.147333</td>\n",
       "      <td>0.962885</td>\n",
       "      <td>10.760449</td>\n",
       "      <td>2.288074</td>\n",
       "      <td>4.536037</td>\n",
       "      <td>2.054503</td>\n",
       "      <td>3.777039</td>\n",
       "      <td>3.063830</td>\n",
       "      <td>6.481974</td>\n",
       "      <td>0.844024</td>\n",
       "      <td>...</td>\n",
       "      <td>6.820527</td>\n",
       "      <td>6.353884</td>\n",
       "      <td>2.920719</td>\n",
       "      <td>3.416674</td>\n",
       "      <td>8.930285</td>\n",
       "      <td>2.623754</td>\n",
       "      <td>6.984359</td>\n",
       "      <td>2.346221</td>\n",
       "      <td>1.376436</td>\n",
       "      <td>8.301145</td>\n",
       "    </tr>\n",
       "    <tr>\n",
       "      <th>2519</th>\n",
       "      <td>4.125221</td>\n",
       "      <td>0.959983</td>\n",
       "      <td>10.584404</td>\n",
       "      <td>2.272811</td>\n",
       "      <td>4.558883</td>\n",
       "      <td>2.065872</td>\n",
       "      <td>3.752647</td>\n",
       "      <td>3.111905</td>\n",
       "      <td>6.384223</td>\n",
       "      <td>0.840301</td>\n",
       "      <td>...</td>\n",
       "      <td>6.945843</td>\n",
       "      <td>6.407264</td>\n",
       "      <td>2.939969</td>\n",
       "      <td>3.420503</td>\n",
       "      <td>8.723702</td>\n",
       "      <td>2.637148</td>\n",
       "      <td>7.051458</td>\n",
       "      <td>2.315307</td>\n",
       "      <td>1.374834</td>\n",
       "      <td>8.385489</td>\n",
       "    </tr>\n",
       "    <tr>\n",
       "      <th>2520</th>\n",
       "      <td>4.036792</td>\n",
       "      <td>0.964757</td>\n",
       "      <td>10.567098</td>\n",
       "      <td>2.249078</td>\n",
       "      <td>4.552446</td>\n",
       "      <td>2.097741</td>\n",
       "      <td>3.731567</td>\n",
       "      <td>3.110521</td>\n",
       "      <td>6.538788</td>\n",
       "      <td>0.849512</td>\n",
       "      <td>...</td>\n",
       "      <td>6.819085</td>\n",
       "      <td>6.424366</td>\n",
       "      <td>2.979380</td>\n",
       "      <td>3.393157</td>\n",
       "      <td>8.842594</td>\n",
       "      <td>2.633124</td>\n",
       "      <td>7.025638</td>\n",
       "      <td>2.339208</td>\n",
       "      <td>1.376959</td>\n",
       "      <td>8.347665</td>\n",
       "    </tr>\n",
       "  </tbody>\n",
       "</table>\n",
       "<p>2521 rows × 500 columns</p>\n",
       "</div>"
      ],
      "text/plain": [
       "           0         1          2         3         4         5         6    \\\n",
       "0     1.000000  1.000000   1.000000  1.000000  1.000000  1.000000  1.000000   \n",
       "1     0.992070  1.015190   1.001874  0.985955  1.009008  0.990884  1.019575   \n",
       "2     0.982706  1.019349   0.991459  1.002647  1.015056  0.976705  1.028392   \n",
       "3     0.993470  1.026211   1.002109  0.998989  1.026667  0.987740  1.019482   \n",
       "4     1.000019  1.020124   1.006459  1.001879  1.037445  0.997308  1.017112   \n",
       "...        ...       ...        ...       ...       ...       ...       ...   \n",
       "2516  4.131559  0.943868  10.958612  2.311079  4.360265  2.069611  3.595601   \n",
       "2517  4.167979  0.965658  10.866778  2.277618  4.422707  2.044896  3.646459   \n",
       "2518  4.147333  0.962885  10.760449  2.288074  4.536037  2.054503  3.777039   \n",
       "2519  4.125221  0.959983  10.584404  2.272811  4.558883  2.065872  3.752647   \n",
       "2520  4.036792  0.964757  10.567098  2.249078  4.552446  2.097741  3.731567   \n",
       "\n",
       "           7         8         9    ...       490       491       492  \\\n",
       "0     1.000000  1.000000  1.000000  ...  1.000000  1.000000  1.000000   \n",
       "1     0.976787  0.997475  1.007077  ...  1.013094  0.996289  0.996695   \n",
       "2     0.979370  1.030065  1.018760  ...  1.032554  1.015597  0.989734   \n",
       "3     0.978159  1.034284  1.024565  ...  1.030997  1.021257  0.974490   \n",
       "4     0.986542  1.038605  1.016114  ...  1.036251  1.036876  0.946750   \n",
       "...        ...       ...       ...  ...       ...       ...       ...   \n",
       "2516  3.092119  6.442778  0.814883  ...  6.862646  6.358003  2.929054   \n",
       "2517  3.108195  6.528397  0.826203  ...  6.830253  6.390006  2.934492   \n",
       "2518  3.063830  6.481974  0.844024  ...  6.820527  6.353884  2.920719   \n",
       "2519  3.111905  6.384223  0.840301  ...  6.945843  6.407264  2.939969   \n",
       "2520  3.110521  6.538788  0.849512  ...  6.819085  6.424366  2.979380   \n",
       "\n",
       "           493       494       495       496       497       498       499  \n",
       "0     1.000000  1.000000  1.000000  1.000000  1.000000  1.000000  1.000000  \n",
       "1     1.005266  0.996563  1.006408  0.976538  0.992151  1.009500  1.002215  \n",
       "2     0.977495  1.007810  1.009866  0.966279  0.997949  1.004255  1.016235  \n",
       "3     0.963793  1.015111  1.017006  0.950653  0.995267  0.995211  0.999994  \n",
       "4     0.969846  1.017795  1.014359  0.957191  0.995187  1.001503  0.985879  \n",
       "...        ...       ...       ...       ...       ...       ...       ...  \n",
       "2516  3.407170  9.065220  2.693558  6.890724  2.292816  1.372566  8.315131  \n",
       "2517  3.391423  8.971627  2.642651  6.952354  2.316583  1.383554  8.292875  \n",
       "2518  3.416674  8.930285  2.623754  6.984359  2.346221  1.376436  8.301145  \n",
       "2519  3.420503  8.723702  2.637148  7.051458  2.315307  1.374834  8.385489  \n",
       "2520  3.393157  8.842594  2.633124  7.025638  2.339208  1.376959  8.347665  \n",
       "\n",
       "[2521 rows x 500 columns]"
      ]
     },
     "execution_count": 202,
     "metadata": {},
     "output_type": "execute_result"
    }
   ],
   "source": [
    "# Run the Monte Carlo simulation to forecast 10 years cumulative returns\n",
    "ten_year_simulation.calc_cumulative_return()\n"
   ]
  },
  {
   "cell_type": "code",
   "execution_count": 203,
   "metadata": {},
   "outputs": [
    {
     "data": {
      "text/plain": [
       "<AxesSubplot:title={'center':'500 Simulations of Cumulative Portfolio Return Trajectories Over the Next 2520 Trading Days.'}>"
      ]
     },
     "execution_count": 203,
     "metadata": {},
     "output_type": "execute_result"
    },
    {
     "data": {
      "image/png": "[encoded data removed]",
      "text/plain": [
       "<Figure size 640x480 with 1 Axes>"
      ]
     },
     "metadata": {},
     "output_type": "display_data"
    }
   ],
   "source": [
    "# Visualize the 10-year Monte Carlo simulation by creating an\n",
    "# overlay line plot\n",
    "ten_year_simulation.plot_simulation()\n"
   ]
  },
  {
   "cell_type": "code",
   "execution_count": 204,
   "metadata": {},
   "outputs": [
    {
     "data": {
      "text/plain": [
       "<AxesSubplot:title={'center':'Distribution of Final Cumuluative Returns Across All 500 Simulations'}, ylabel='Frequency'>"
      ]
     },
     "execution_count": 204,
     "metadata": {},
     "output_type": "execute_result"
    },
    {
     "data": {
      "image/png": "[encoded data removed]",
      "text/plain": [
       "<Figure size 640x480 with 1 Axes>"
      ]
     },
     "metadata": {},
     "output_type": "display_data"
    }
   ],
   "source": [
    "# Visualize the probability distribution of the 10-year Monte Carlo simulation \n",
    "# by plotting a histogram\n",
    "ten_year_simulation.plot_distribution()\n"
   ]
  },
  {
   "cell_type": "code",
   "execution_count": 205,
   "metadata": {},
   "outputs": [
    {
     "name": "stdout",
     "output_type": "stream",
     "text": [
      "count           500.000000\n",
      "mean              4.020978\n",
      "std               2.242856\n",
      "min               0.849512\n",
      "25%               2.395681\n",
      "50%               3.421976\n",
      "75%               5.214263\n",
      "max              16.219480\n",
      "95% CI Lower      1.273491\n",
      "95% CI Upper      9.421952\n",
      "Name: 2520, dtype: float64\n"
     ]
    }
   ],
   "source": [
    "# Generate summary statistics from the 10-year Monte Carlo simulation results\n",
    "# Save the results as a variable\n",
    "ten_year_summary_stats = ten_year_simulation.summarize_cumulative_return()\n",
    "\n",
    "# Review the 10-year Monte Carlo summary statistics\n",
    "print(ten_year_summary_stats)"
   ]
  },
  {
   "cell_type": "markdown",
   "metadata": {},
   "source": [
    "### Answer the following questions:"
   ]
  },
  {
   "cell_type": "markdown",
   "metadata": {},
   "source": [
    "#### Question: Using the current value of only the stock and bond portion of the member's portfolio and the summary statistics that you generated from the new Monte Carlo simulation, what are the lower and upper bounds for the expected value of the portfolio (with the new weights) with a 95% confidence interval?"
   ]
  },
  {
   "cell_type": "code",
   "execution_count": 207,
   "metadata": {},
   "outputs": [
    {
     "name": "stdout",
     "output_type": "stream",
     "text": [
      "The current balance of the stock and bond portion of the member's portfolio is $44,535.50\n"
     ]
    }
   ],
   "source": [
    "# Define the number of shares and their current prices\n",
    "num_shares_agg = 200\n",
    "num_shares_spy = 50\n",
    "price_agg = 110.12\n",
    "price_spy = 450.23\n",
    "\n",
    "# Calculate the current balance of the stock and bond portion of the member's portfolio\n",
    "current_balance = num_shares_agg * price_agg + num_shares_spy * price_spy\n",
    "\n",
    "# Print the current balance of the stock and bond portion of the member's portfolio\n",
    "print(f\"The current balance of the stock and bond portion of the member's portfolio is ${current_balance:,.2f}\")\n"
   ]
  },
  {
   "cell_type": "code",
   "execution_count": 208,
   "metadata": {},
   "outputs": [
    {
     "name": "stdout",
     "output_type": "stream",
     "text": [
      "The lower bound for the expected value of the portfolio with a 95% confidence interval is $56,715.54\n",
      "The upper bound for the expected value of the portfolio with a 95% confidence interval is $419,611.34\n"
     ]
    }
   ],
   "source": [
    "# Use the lower and upper `95%` confidence intervals to calculate the range of the possible outcomes for the current stock/bond portfolio\n",
    "ci_lower_ten_cumulative_return = ten_year_summary_stats[8] * current_balance\n",
    "ci_upper_ten_cumulative_return = ten_year_summary_stats[9] * current_balance\n",
    "\n",
    "# Print the result of your calculations\n",
    "print(f\"The lower bound for the expected value of the portfolio with a 95% confidence interval is ${ci_lower_ten_cumulative_return:,.2f}\")\n",
    "print(f\"The upper bound for the expected value of the portfolio with a 95% confidence interval is ${ci_upper_ten_cumulative_return:,.2f}\")\n"
   ]
  },
  {
   "cell_type": "markdown",
   "metadata": {},
   "source": [
    "#### Question: Will weighting the portfolio more heavily to stocks allow the credit union members to retire after only 10 years?"
   ]
  },
  {
   "cell_type": "raw",
   "metadata": {},
   "source": [
    "**Answer** # The answer to whether a heavier investment in stocks will allow credit union members to retire in just 10 years depends on each person's financial objectives and their willingness to take on risk. By increasing the portion of stocks in the portfolio, there's a chance for greater returns, but it also comes with increased risk.\n",
    "\n",
    "The lower and upper limits of the 95% confidence interval can give you an idea of how much the portfolio might grow. However, the choice to retire after 10 years will ultimately be based on whether the anticipated growth aligns with the members' financial requirements and their comfort level with the risk tied to a more assertive investment strategy."
   ]
  },
  {
   "cell_type": "code",
   "execution_count": null,
   "metadata": {},
   "outputs": [],
   "source": []
  }
 ],
 "metadata": {
  "kernelspec": {
   "display_name": "Python 3 (ipykernel)",
   "language": "python",
   "name": "python3"
  },
  "language_info": {
   "codemirror_mode": {
    "name": "ipython",
    "version": 3
   },
   "file_extension": ".py",
   "mimetype": "text/x-python",
   "name": "python",
   "nbconvert_exporter": "python",
   "pygments_lexer": "ipython3",
   "version": "3.7.13"
  }
 },
 "nbformat": 4,
 "nbformat_minor": 4
}
